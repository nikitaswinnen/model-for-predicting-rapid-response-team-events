{
 "cells": [
  {
   "cell_type": "markdown",
   "metadata": {},
   "source": [
    "## Ran a bunch of queries to examine encounter types, and count the frequencies."
   ]
  },
  {
   "cell_type": "code",
   "execution_count": null,
   "metadata": {
    "collapsed": true
   },
   "outputs": [],
   "source": [
    "import pandas as pd\n",
    "import numpy as np\n",
    "import matplotlib.pyplot as plt\n",
    "import datetime as datetime\n",
    "from impala.dbapi import connect\n",
    "from impala.util import as_pandas\n",
    "%matplotlib notebook\n",
    "plt.style.use('ggplot')"
   ]
  },
  {
   "cell_type": "code",
   "execution_count": null,
   "metadata": {
    "collapsed": true
   },
   "outputs": [],
   "source": [
    "conn = connect(host=\"mycluster.domain.com\", port=my_impala_port_number)\n",
    "cur = conn.cursor()\n",
    "cur.execute(\"use my_db\")"
   ]
  },
  {
   "cell_type": "code",
   "execution_count": null,
   "metadata": {
    "collapsed": false
   },
   "outputs": [],
   "source": [
    "# Get the admit type description and counts for RRT encounters\n",
    "\n",
    "query_admit_RRT = \"\"\"\n",
    "SELECT \n",
    "      enc.admit_type_cd\n",
    "    , cv_admit_type.description AS admit_type_des\n",
    "    , count(1)\n",
    "FROM encounter enc \n",
    "LEFT OUTER JOIN code_value cv_admit_type \n",
    "ON enc.admit_type_cd = cv_admit_type.code_value \n",
    "LEFT OUTER JOIN code_value cv_enc_type \n",
    "ON enc.encntr_type_cd = cv_enc_type.code_value \n",
    "LEFT OUTER JOIN code_value cv_enc_type_class \n",
    "ON enc.encntr_type_class_cd = cv_enc_type_class.code_value \n",
    "WHERE enc.encntr_id IN (\n",
    "                        SELECT encntr_id \n",
    "                        FROM clinical_event \n",
    "                        WHERE event_cd = '54411998' \n",
    "                        AND result_status_cd NOT IN ('31', '36') \n",
    "                        AND valid_until_dt_tm > 4000000000000 \n",
    "                        AND event_class_cd not in ('654645')\n",
    "                        ) \n",
    "AND (enc.encntr_complete_dt_tm < 4000000000000) \n",
    "AND enc.loc_facility_cd = '633867' \n",
    "GROUP BY enc.admit_type_cd, admit_type_des;\n",
    "\"\"\"\n",
    "cur.execute(query_admit_RRT)\n",
    "cur.fetchall()"
   ]
  },
  {
   "cell_type": "code",
   "execution_count": null,
   "metadata": {
    "collapsed": false
   },
   "outputs": [],
   "source": [
    "# Get the distribution for non-RRT encounters over the reasons for the admission type description\n",
    "\n",
    "query_admit_NotRRT = \"\"\"\n",
    "SELECT \n",
    "      enc.admit_type_cd\n",
    "    , cv_admit_type.description AS admit_type_des\n",
    "    , count(1)\n",
    "FROM encounter enc \n",
    "LEFT OUTER JOIN code_value cv_admit_type \n",
    "ON enc.admit_type_cd = cv_admit_type.code_value \n",
    "LEFT OUTER JOIN code_value cv_enc_type \n",
    "ON enc.encntr_type_cd = cv_enc_type.code_value \n",
    "LEFT OUTER JOIN code_value cv_enc_type_class \n",
    "ON enc.encntr_type_class_cd = cv_enc_type_class.code_value \n",
    "WHERE enc.encntr_id NOT IN (\n",
    "                            SELECT encntr_id \n",
    "                            FROM clinical_event \n",
    "                            WHERE event_cd = '54411998' \n",
    "                            AND result_status_cd NOT IN ('31', '36') \n",
    "                            AND valid_until_dt_tm > 4000000000000 \n",
    "                            AND event_class_cd not in ('654645')\n",
    "                            ) \n",
    "AND (enc.encntr_complete_dt_tm < 4000000000000) \n",
    "AND enc.loc_facility_cd = '633867' \n",
    "GROUP BY enc.admit_type_cd, admit_type_des;\n",
    "\"\"\"\n",
    "cur.execute(query_admit_NotRRT)\n",
    "cur.fetchall()"
   ]
  },
  {
   "cell_type": "code",
   "execution_count": null,
   "metadata": {
    "collapsed": false
   },
   "outputs": [],
   "source": [
    "# Count the number of non-RRT encounters\n",
    "\n",
    "query_count_NotRRT = \"\"\"\n",
    "SELECT count(1) \n",
    "FROM (\n",
    "        SELECT enc.admit_type_cd \n",
    "        FROM encounter enc \n",
    "        LEFT OUTER JOIN code_value cv_admit_type \n",
    "        ON enc.admit_type_cd = cv_admit_type.code_value \n",
    "        LEFT OUTER JOIN code_value cv_enc_type \n",
    "        ON enc.encntr_type_cd = cv_enc_type.code_value \n",
    "        LEFT OUTER JOIN code_value cv_enc_type_class \n",
    "        ON enc.encntr_type_class_cd = cv_enc_type_class.code_value \n",
    "        WHERE enc.encntr_id NOT IN (\n",
    "                                    SELECT encntr_id \n",
    "                                    FROM clinical_event \n",
    "                                    WHERE event_cd = '54411998' \n",
    "                                    AND result_status_cd NOT IN ('31', '36') \n",
    "                                    AND valid_until_dt_tm > 4000000000000 \n",
    "                                    AND event_class_cd not in ('654645')\n",
    "                                    ) \n",
    "AND (enc.encntr_complete_dt_tm < 4000000000000) \n",
    "AND enc.loc_facility_cd = '633867') t;\n",
    "\"\"\"\n",
    "cur.execute(query_count_NotRRT)\n",
    "cur.fetchall()"
   ]
  },
  {
   "cell_type": "code",
   "execution_count": null,
   "metadata": {
    "collapsed": false
   },
   "outputs": [],
   "source": [
    "# Check the distribution for RRT encoutners over the encounter \n",
    "# types of 'Inpatient', 'Outpatient' and 'Observation'\n",
    "\n",
    "query_enctypecl_RRT = \"\"\"\n",
    "SELECT \n",
    "      enc.encntr_type_class_cd\n",
    "    , cv_enc_type_class.description AS enc_type_class_desc\n",
    "    , count(1)\n",
    "FROM encounter enc \n",
    "LEFT OUTER JOIN code_value cv_admit_type \n",
    "ON enc.admit_type_cd = cv_admit_type.code_value \n",
    "LEFT OUTER JOIN code_value cv_enc_type \n",
    "ON enc.encntr_type_cd = cv_enc_type.code_value \n",
    "LEFT OUTER JOIN code_value cv_enc_type_class \n",
    "ON enc.encntr_type_class_cd = cv_enc_type_class.code_value \n",
    "WHERE enc.encntr_id IN (\n",
    "                        SELECT encntr_id \n",
    "                        FROM clinical_event \n",
    "                        WHERE event_cd = '54411998' \n",
    "                        AND result_status_cd NOT IN ('31', '36') \n",
    "                        AND valid_until_dt_tm > 4000000000000 \n",
    "                        AND event_class_cd not in ('654645')\n",
    "                        ) \n",
    "AND (enc.encntr_complete_dt_tm < 4000000000000) \n",
    "AND enc.loc_facility_cd = '633867' \n",
    "GROUP BY enc.encntr_type_class_cd, enc_type_class_desc;\n",
    "\"\"\"\n",
    "cur.execute(query_enctypecl_RRT)\n",
    "cur.fetchall()"
   ]
  },
  {
   "cell_type": "code",
   "execution_count": null,
   "metadata": {
    "collapsed": false
   },
   "outputs": [],
   "source": [
    "# Check the distribution for RRT encounters over the admit types \n",
    "# of 'Urgent', 'Emergency', 'None', and 'Elective'\n",
    "\n",
    "query_enctypecl_RRT_admit = \"\"\"\n",
    "SELECT \n",
    "      enc.admit_type_cd\n",
    "    , cv_admit_type.description AS admit_type_des\n",
    "    , count(1)\n",
    "FROM encounter enc \n",
    "LEFT OUTER JOIN code_value cv_admit_type \n",
    "ON enc.admit_type_cd = cv_admit_type.code_value \n",
    "LEFT OUTER JOIN code_value cv_enc_type \n",
    "ON enc.encntr_type_cd = cv_enc_type.code_value \n",
    "LEFT OUTER JOIN code_value cv_enc_type_class \n",
    "ON enc.encntr_type_class_cd = cv_enc_type_class.code_value \n",
    "WHERE enc.encntr_id IN (\n",
    "                        SELECT encntr_id \n",
    "                        FROM clinical_event \n",
    "                        WHERE event_cd = '54411998' \n",
    "                        AND result_status_cd NOT IN ('31', '36') \n",
    "                        AND valid_until_dt_tm > 4000000000000 \n",
    "                        AND event_class_cd not in ('654645')\n",
    "                        ) \n",
    "AND (enc.encntr_complete_dt_tm < 4000000000000) \n",
    "AND enc.loc_facility_cd = '633867' \n",
    "AND enc.encntr_type_class_cd = '391'\n",
    "GROUP BY enc.admit_type_cd, admit_type_des;\n",
    "\"\"\"\n",
    "cur.execute(query_enctypecl_RRT_admit)\n",
    "cur.fetchall()"
   ]
  },
  {
   "cell_type": "code",
   "execution_count": null,
   "metadata": {
    "collapsed": false
   },
   "outputs": [],
   "source": [
    "# Check the distribution for non-RRT encounters over the encounter types \n",
    "\n",
    "query_enctype_NotRRT = \"\"\"\n",
    "SELECT \n",
    "      enc.encntr_type_class_cd\n",
    "    , cv_enc_type_class.description AS enc_type_class_desc\n",
    "    , count(1)\n",
    "FROM encounter enc \n",
    "LEFT OUTER JOIN code_value cv_admit_type \n",
    "ON enc.admit_type_cd = cv_admit_type.code_value \n",
    "LEFT OUTER JOIN code_value cv_enc_type \n",
    "ON enc.encntr_type_cd = cv_enc_type.code_value \n",
    "LEFT OUTER JOIN code_value cv_enc_type_class \n",
    "ON enc.encntr_type_class_cd = cv_enc_type_class.code_value \n",
    "WHERE enc.encntr_id NOT IN (\n",
    "                            SELECT encntr_id \n",
    "                            FROM clinical_event \n",
    "                            WHERE event_cd = '54411998' \n",
    "                            AND result_status_cd NOT IN ('31', '36') \n",
    "                            AND valid_until_dt_tm > 4000000000000 \n",
    "                            AND event_class_cd not in ('654645')\n",
    "                            ) \n",
    "AND (enc.encntr_complete_dt_tm < 4000000000000) \n",
    "AND enc.loc_facility_cd = '633867' \n",
    "GROUP BY enc.encntr_type_class_cd, enc_type_class_desc;\n",
    "\"\"\"\n",
    "cur.execute(query_enctype_NotRRT)\n",
    "cur.fetchall()"
   ]
  }
 ],
 "metadata": {
  "anaconda-cloud": {},
  "kernelspec": {
   "display_name": "Python [Root]",
   "language": "python",
   "name": "Python [Root]"
  },
  "language_info": {
   "codemirror_mode": {
    "name": "ipython",
    "version": 2
   },
   "file_extension": ".py",
   "mimetype": "text/x-python",
   "name": "python",
   "nbconvert_exporter": "python",
   "pygments_lexer": "ipython2",
   "version": "2.7.12"
  }
 },
 "nbformat": 4,
 "nbformat_minor": 0
}
