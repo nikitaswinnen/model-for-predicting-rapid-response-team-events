{
 "cells": [
  {
   "cell_type": "markdown",
   "metadata": {},
   "source": [
    "# Explore those patients who have had repeat RRT events during an encounter"
   ]
  },
  {
   "cell_type": "code",
   "execution_count": null,
   "metadata": {
    "collapsed": true
   },
   "outputs": [],
   "source": [
    "import pandas as pd\n",
    "import numpy as np\n",
    "import matplotlib.pyplot as plt\n",
    "import datetime as datetime\n",
    "from impala.util import as_pandas\n",
    "from impala.dbapi import connect\n",
    "plt.style.use('ggplot')\n",
    "%matplotlib notebook"
   ]
  },
  {
   "cell_type": "code",
   "execution_count": null,
   "metadata": {
    "collapsed": true
   },
   "outputs": [],
   "source": [
    "conn = connect(host=\"mycluster.domain.com\", port=my_impala_port_number)\n",
    "cur = conn.cursor()\n",
    "cur.execute(\"use my_db\")"
   ]
  },
  {
   "cell_type": "code",
   "execution_count": null,
   "metadata": {
    "collapsed": true
   },
   "outputs": [],
   "source": [
    "query_rrt_counts = \"\"\"\n",
    "SELECT enc.encntr_id, COUNT(1) AS count \n",
    "FROM encounter enc\n",
    "INNER JOIN clinical_event ce \n",
    "ON enc.encntr_id = ce.encntr_id\n",
    "WHERE enc.loc_facility_cd='633867'\n",
    "AND enc.encntr_complete_dt_tm < 4e12\n",
    "AND ce.event_cd='54411998'\n",
    "AND ce.result_status_cd NOT IN ('31', '36')\n",
    "AND ce.valid_until_dt_tm > 4e12\n",
    "AND ce.event_class_cd not in ('654645')\n",
    "AND enc.admit_type_cd != '0'\n",
    "AND enc.encntr_type_class_cd = '391'\n",
    "GROUP BY enc.encntr_id\n",
    "ORDER BY enc.encntr_id;\n",
    "\"\"\""
   ]
  },
  {
   "cell_type": "code",
   "execution_count": null,
   "metadata": {
    "collapsed": false
   },
   "outputs": [],
   "source": [
    "cur.execute(query_rrt_counts)\n",
    "df = as_pandas(cur)"
   ]
  },
  {
   "cell_type": "code",
   "execution_count": null,
   "metadata": {
    "collapsed": false
   },
   "outputs": [],
   "source": [
    "df.head()\n"
   ]
  },
  {
   "cell_type": "code",
   "execution_count": null,
   "metadata": {
    "collapsed": false
   },
   "outputs": [],
   "source": [
    "# Number of encounters with multiple RRTs:\n",
    "len(df[df['count']>1])"
   ]
  },
  {
   "cell_type": "code",
   "execution_count": null,
   "metadata": {
    "collapsed": false
   },
   "outputs": [],
   "source": [
    "# to get just the encounter ids with counts >1\n",
    "encs = df[df['count']>1]['encntr_id'].get_values()"
   ]
  },
  {
   "cell_type": "code",
   "execution_count": null,
   "metadata": {
    "collapsed": false
   },
   "outputs": [],
   "source": [
    "encs"
   ]
  },
  {
   "cell_type": "code",
   "execution_count": null,
   "metadata": {
    "collapsed": false
   },
   "outputs": [],
   "source": [
    "len(df)"
   ]
  },
  {
   "cell_type": "code",
   "execution_count": null,
   "metadata": {
    "collapsed": false
   },
   "outputs": [],
   "source": [
    "df.sort_values(by='count', ascending=False).head(10)"
   ]
  },
  {
   "cell_type": "code",
   "execution_count": null,
   "metadata": {
    "collapsed": false,
    "scrolled": false
   },
   "outputs": [],
   "source": [
    "df[df['count']>1].hist()"
   ]
  },
  {
   "cell_type": "markdown",
   "metadata": {},
   "source": [
    "## Of the all the people with valid & complete RRT events, some of them have multiple RRT events."
   ]
  },
  {
   "cell_type": "markdown",
   "metadata": {
    "collapsed": true
   },
   "source": [
    "## BUT: how many are truly multiple events, or mistaken entry, or bad data?\n",
    "\n",
    "### For each encoutner with multiple RRT events:\n",
    "###    Check that the RRT events are reasonably spaced out\n",
    "###   Check that the RRT events are all after arrival & before enc.departure"
   ]
  },
  {
   "cell_type": "code",
   "execution_count": null,
   "metadata": {
    "collapsed": false,
    "scrolled": false
   },
   "outputs": [],
   "source": [
    "# Print out the data related to the encounter with multiple RRT events, if the duration beteween RRT events is less than 1 hour, \n",
    "# or if the start & end time of the encounter doesn't make sense related to the time of the RRT event.\n",
    "count = 0\n",
    "for enc in encs:\n",
    "    count+=1\n",
    "    print \"count: {0}\".format(count)\n",
    "    query = \"\"\"\n",
    "    SELECT \n",
    "          ce.encntr_id\n",
    "        , ce.event_id\n",
    "        , ce.valid_until_dt_tm\n",
    "        , from_unixtime(CAST(ce.event_end_dt_tm / 1000 as bigint)) AS event_end\n",
    "        , ce.event_end_dt_tm\n",
    "        , from_unixtime(CAST(ce.valid_from_dt_tm / 1000 as bigint)) AS valid_from\n",
    "        , from_unixtime(CAST(enc.arrive_dt_tm/1000 as bigint)) AS enc_arrive\n",
    "        , enc.arrive_dt_tm\n",
    "        , COALESCE(tci.checkin_dt_tm, enc.arrive_dt_tm) AS check_in_time\n",
    "        , from_unixtime(CAST(COALESCE(tci.checkin_dt_tm\n",
    "        , enc.arrive_dt_tm)/1000 as bigint)) AS check_in\n",
    "        , from_unixtime(CAST(enc.depart_dt_tm/1000 as bigint)) AS enc_depart\n",
    "        , enc.depart_dt_tm\n",
    "    FROM clinical_event ce \n",
    "    INNER JOIN encounter enc \n",
    "    ON ce.encntr_id = enc.encntr_id\n",
    "    LEFT OUTER JOIN  ( \n",
    "                        SELECT  \n",
    "                            ti.encntr_id AS encntr_id\n",
    "                          , MIN(tc.checkin_dt_tm) AS checkin_dt_tm\n",
    "                        FROM tracking_item ti\n",
    "                        JOIN tracking_checkin tc ON ti.tracking_id = tc.tracking_id\n",
    "                        GROUP BY ti.encntr_id \n",
    "                     ) tci \n",
    "    ON tci.encntr_id = enc.encntr_id\n",
    "    WHERE ce.event_cd = '54411998' AND ce.encntr_id='{0}'\n",
    "    AND ce.valid_until_dt_tm>4e12;\n",
    "    \"\"\".format(enc)\n",
    "\n",
    "    cur.execute(query)\n",
    "    dfenc = as_pandas(cur)\n",
    "\n",
    "    dfenc['dep-perf_hrs'] = ((dfenc['depart_dt_tm']-dfenc['event_end_dt_tm'])/3600000)\n",
    "    dfenc['perf-arr_hrs'] = ((dfenc['event_end_dt_tm']-dfenc['check_in_time'])/3600000)\n",
    "\n",
    "    # if there's a problem, print the dfenc\n",
    "    if any(dfenc['dep-perf_hrs']<0):\n",
    "        print dfenc\n",
    "    if any(dfenc['perf-arr_hrs']<0):\n",
    "        print dfenc\n",
    "\n",
    "    RRTtimes = sorted(dfenc['event_end_dt_tm'].get_values())\n",
    "\n",
    "    time_lastloop = 0\n",
    "    for RRTtime in RRTtimes:\n",
    "        if time_lastloop == 0:\n",
    "            time_lastloop = RRTtime\n",
    "        else:\n",
    "            if (RRTtime-time_lastloop)/3600000. < 1:\n",
    "                print dfenc\n"
   ]
  },
  {
   "cell_type": "code",
   "execution_count": null,
   "metadata": {
    "collapsed": true
   },
   "outputs": [],
   "source": [
    "# Several of these have elapsed intervals under 1 hour. ==> Very unlikely.\n",
    "# Sometimes, info can get entered twice into the system, esp if there is a shift change."
   ]
  },
  {
   "cell_type": "code",
   "execution_count": null,
   "metadata": {
    "collapsed": false,
    "scrolled": true
   },
   "outputs": [],
   "source": [
    "dfenc"
   ]
  }
 ],
 "metadata": {
  "kernelspec": {
   "display_name": "Python [Root]",
   "language": "python",
   "name": "Python [Root]"
  },
  "language_info": {
   "codemirror_mode": {
    "name": "ipython",
    "version": 2
   },
   "file_extension": ".py",
   "mimetype": "text/x-python",
   "name": "python",
   "nbconvert_exporter": "python",
   "pygments_lexer": "ipython2",
   "version": "2.7.12"
  }
 },
 "nbformat": 4,
 "nbformat_minor": 0
}
