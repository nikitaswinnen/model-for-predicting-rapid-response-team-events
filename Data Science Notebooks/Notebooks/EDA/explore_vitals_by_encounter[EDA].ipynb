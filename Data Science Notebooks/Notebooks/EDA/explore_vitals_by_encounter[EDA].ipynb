{
 "cells": [
  {
   "cell_type": "markdown",
   "metadata": {},
   "source": [
    "### Look at individually"
   ]
  },
  {
   "cell_type": "markdown",
   "metadata": {},
   "source": [
    "### Pull up Vitals Sign info & RRT events from clinical event table.\n",
    "#### In order to answer these questions:\n",
    "    1. Which of the vital signs are actually recorded the most? (e.g. between the different O2 measures)\n",
    "         We would want to use these measurements -- the ones that are most accessible / most often recorded\n",
    "         \n",
    "    2. How many measurements are available from the same encounter before a patient\"s RRT event? What\"s the time frame we have before RRT events?\n",
    "        Use this info to help us shape how we timebox measurements for prediction."
   ]
  },
  {
   "cell_type": "code",
   "execution_count": null,
   "metadata": {
    "collapsed": true
   },
   "outputs": [],
   "source": [
    "import pandas as pd\n",
    "import numpy as np\n",
    "import matplotlib.pyplot as plt\n",
    "plt.style.use('ggplot')\n",
    "%matplotlib inline\n",
    "import datetime as datetime\n",
    "from impala.util import as_pandas\n",
    "from impala.dbapi import connect"
   ]
  },
  {
   "cell_type": "code",
   "execution_count": null,
   "metadata": {
    "collapsed": true
   },
   "outputs": [],
   "source": [
    "# connect to impala\n",
    "conn = connect(host=host=\"mycluster.domain.com\", port=my_impala_port_number)"
   ]
  },
  {
   "cell_type": "code",
   "execution_count": null,
   "metadata": {
    "collapsed": true
   },
   "outputs": [],
   "source": [
    "# Make sure we\"re pulling from the right location\n",
    "cur = conn.cursor()\n",
    "cur.execute(\"use my_db\")"
   ]
  },
  {
   "cell_type": "code",
   "execution_count": null,
   "metadata": {
    "collapsed": true
   },
   "outputs": [],
   "source": [
    "query = \"\"\"\n",
    "SELECT \\\n",
    "      ce.clinical_event_id \\\n",
    "    , ce.event_id \\\n",
    "    , ce.encntr_id \\\n",
    "    , ce.person_id \\\n",
    "    , ce.event_cd \\\n",
    "    , cv_event_cd.description AS event_description \\\n",
    "    , ce.performed_dt_tm AS unix_performed_dt_tm \\\n",
    "    , from_unixtime(CAST(ce.performed_dt_tm  / 1000 as bigint)) AS performed_dt_tm \\\n",
    "    , ce.event_tag \\\n",
    "    , ce.result_val \\\n",
    "    , cv_result_units_cd.display AS result_units_display \\\n",
    "    , ce.result_time_units_cd \\\n",
    "    , ce.catalog_cd \\\n",
    "FROM clinical_event ce \\\n",
    "LEFT OUTER JOIN code_value cv_event_cd \\\n",
    "ON ce.event_cd = cv_event_cd.code_value \\\n",
    "LEFT OUTER JOIN code_value cv_result_units_cd \\\n",
    "ON ce.result_units_cd  = cv_result_units_cd.code_value \\\n",
    "WHERE ce.encntr_id IN ( SELECT DISTINCT encntr_id \\\n",
    "                       FROM clinical_event \\\n",
    "                       WHERE event_cd = '54411998' \\\n",
    "                       AND result_status_cd NOT IN ('31', '36') \\\n",
    "                       AND valid_until_dt_tm > unix_timestamp() \\\n",
    "                       AND event_class_cd not in ('654645') \\\n",
    "                       ORDER BY RAND() \\\n",
    "                       LIMIT 10 \\\n",
    "                      ) \\\n",
    "AND ce.event_cd IN ( \\\n",
    "                    '703306',\\\n",
    "                    '703501',\\\n",
    "                    '703511',\\\n",
    "                    '703516',\\\n",
    "                    '703540',\\\n",
    "                    '703558',\\\n",
    "                    '703565',\\\n",
    "                    '703569',\\\n",
    "                    '703960',\\\n",
    "                    '2700541',\\\n",
    "                    '2700653',\\\n",
    "                    '3623994',\\\n",
    "                    '4674677',\\\n",
    "                    '4686698',\\\n",
    "                    '54411998'\\\n",
    "                    )\\\n",
    "ORDER BY ce.encntr_id, ce.performed_dt_tm;\n",
    "\"\"\""
   ]
  },
  {
   "cell_type": "code",
   "execution_count": null,
   "metadata": {
    "collapsed": false
   },
   "outputs": [],
   "source": [
    "cur.execute(query)\n",
    "df = as_pandas(cur)"
   ]
  },
  {
   "cell_type": "code",
   "execution_count": null,
   "metadata": {
    "collapsed": false,
    "scrolled": true
   },
   "outputs": [],
   "source": [
    "df.head()"
   ]
  },
  {
   "cell_type": "code",
   "execution_count": null,
   "metadata": {
    "collapsed": false
   },
   "outputs": [],
   "source": [
    "df.encntr_id.value_counts()"
   ]
  },
  {
   "cell_type": "code",
   "execution_count": null,
   "metadata": {
    "collapsed": false
   },
   "outputs": [],
   "source": [
    "# pull off all the encounter ids into an array to loop over\n",
    "df.encntr_id.value_counts().index.get_values()"
   ]
  },
  {
   "cell_type": "code",
   "execution_count": null,
   "metadata": {
    "collapsed": false
   },
   "outputs": [],
   "source": [
    "df_enc = df[df.encntr_id=='108285121']\n",
    "rrt_times = df_enc.unix_performed_dt_tm[df_enc.event_cd == '54411998'].unique()"
   ]
  },
  {
   "cell_type": "code",
   "execution_count": null,
   "metadata": {
    "collapsed": false
   },
   "outputs": [],
   "source": [
    "rrt_times"
   ]
  },
  {
   "cell_type": "code",
   "execution_count": null,
   "metadata": {
    "collapsed": false
   },
   "outputs": [],
   "source": [
    "newdf = df_enc.groupby(['event_cd']).count().iloc[:,0].to_frame()"
   ]
  },
  {
   "cell_type": "code",
   "execution_count": null,
   "metadata": {
    "collapsed": true
   },
   "outputs": [],
   "source": [
    "newdf"
   ]
  },
  {
   "cell_type": "code",
   "execution_count": null,
   "metadata": {
    "collapsed": false
   },
   "outputs": [],
   "source": [
    "print newdf.sort_values('clinical_event_id', ascending = False)"
   ]
  },
  {
   "cell_type": "code",
   "execution_count": null,
   "metadata": {
    "collapsed": false,
    "scrolled": true
   },
   "outputs": [],
   "source": [
    "# Function to show how many values of different vitals signs for event_cd appeared in the intervals between RRT events \n",
    "# for this encounterid.\n",
    "\n",
    "# Start with a df from clinical_event table, where each line contains either a vital sign reading or an RRT event form\n",
    "# must include encntr_id, event_cd, unixdatestamp.\n",
    "\n",
    "def output_vitalsbeforeRRT(df):\n",
    "    '''\n",
    "    Function to show how many values of different vitals signs for event_cd appeared in the intervals between RRT events \n",
    "for this encounterid Start with a df from clinical_event table, where each line contains either a vital sign reading or \n",
    "an RRT event form must include encntr_id, event_cd, unixdatestamp\n",
    "    '''\n",
    "    \n",
    "    encntr_array = df.encntr_id.value_counts().index.get_values()\n",
    "    \n",
    "    # loop through all encounter ids\n",
    "    for encounter_id in encntr_array:\n",
    "        print \"Encounter id: {0}\".format(encounter_id)\n",
    "        \n",
    "        df_enc = df[df.encntr_id==encounter_id]\n",
    "        \n",
    "        # find the different unique RRT times\n",
    "        rrt_times = df_enc.unix_performed_dt_tm[df_enc.event_cd == '54411998'].unique()    \n",
    "        print rrt_times\n",
    "        # go through each interval & print counts for values\n",
    "        time_prev=0\n",
    "        \n",
    "        for time_now in rrt_times:\n",
    "            df_enc_sub = df_enc[(df_enc.unix_performed_dt_tm < time_now) & (df_enc.unix_performed_dt_tm > time_prev)]\n",
    "            print \"time_now: {0}; time_prev: {1}\".format(time_now, time_prev)\n",
    "            print df_enc_sub.groupby(['event_cd']).count().iloc[:,0].to_frame().sort_values('clinical_event_id', ascending = False)\n",
    "            print \"------------------\"\n",
    "            time_prev = time_now\n",
    "            \n",
    "        print \"================================\"\n",
    "        \n",
    "    return \"Done\""
   ]
  },
  {
   "cell_type": "code",
   "execution_count": null,
   "metadata": {
    "collapsed": true
   },
   "outputs": [],
   "source": [
    "output_vitalsbeforeRRT(df)"
   ]
  },
  {
   "cell_type": "markdown",
   "metadata": {
    "collapsed": true
   },
   "source": [
    "## Time series of vitals"
   ]
  },
  {
   "cell_type": "code",
   "execution_count": null,
   "metadata": {
    "collapsed": true
   },
   "outputs": [],
   "source": [
    "import pandas as pd"
   ]
  },
  {
   "cell_type": "code",
   "execution_count": null,
   "metadata": {
    "collapsed": false
   },
   "outputs": [],
   "source": [
    "query_vitals = \"\"\"\n",
    "SELECT \\\n",
    "      ce.clinical_event_id \\\n",
    "    , ce.event_id \\\n",
    "    , ce.encntr_id \n",
    "    , ce.person_id \\\n",
    "    , ce.event_cd \\ \n",
    "    , cv_event_cd.description AS event_description \\\n",
    "    , ce.performed_dt_tm AS unix_performed_dt_tm \\\n",
    "    , from_unixtime(CAST(ce.performed_dt_tm / 1000 as bigint)) AS performed_dt_tm \\\n",
    "    , ce.event_tag \\ \n",
    "    , ce.result_val \\\n",
    "    , cv_result_units_cd.display AS result_units_display \\\n",
    "    , ce.result_time_units_cd \\\n",
    "    , ce.catalog_cd \\\n",
    "FROM clinical_event ce \\\n",
    "LEFT OUTER JOIN code_value cv_event_cd \\\n",
    "ON ce.event_cd = cv_event_cd.code_value \\\n",
    "LEFT OUTER JOIN code_value cv_result_units_cd \\ \n",
    "ON ce.result_units_cd = cv_result_units_cd.code_value \\\n",
    "WHERE ce.encntr_id ='105479870' \\\n",
    "AND ce.event_cd IN ( \\\n",
    "                    '703306',\\\n",
    "                    '703501',\\\n",
    "                    '703511',\\\n",
    "                    '703516',\\\n",
    "                    '703540',\\\n",
    "                    '703558',\\\n",
    "                    '703565',\\\n",
    "                    '703569',\\\n",
    "                    '2700541',\\\n",
    "                    '2700653',\\\n",
    "                    '3623994',\\\n",
    "                    '4674677',\\\n",
    "                    '4686698',\\\n",
    "                    '4690633',\\\n",
    "                    '54411998',\\\n",
    "                    '54408578'\\\n",
    "                    )\\\n",
    "ORDER BY ce.encntr_id, ce.performed_dt_tm;\n",
    "\"\"\"\n",
    "cur.execute(query_vitals)\n",
    "df = as_pandas(cur)"
   ]
  },
  {
   "cell_type": "code",
   "execution_count": null,
   "metadata": {
    "collapsed": true
   },
   "outputs": [],
   "source": [
    "df[\"timestamp\"] = df.performed_dt_tm.apply(lambda x: pd.Timestamp(x))"
   ]
  },
  {
   "cell_type": "code",
   "execution_count": null,
   "metadata": {
    "collapsed": false
   },
   "outputs": [],
   "source": [
    "# Exploring different codes below\n",
    "# df[df.event_cd=='54411998']\n",
    "# df[df.event_cd=='54408578']\n",
    "# df[df.event_cd=='54408578']['event_tag'].get_values()[0]\n",
    "print \"RRT reason for call: {0}\".format(df[df.event_cd=='54408578']['event_tag'].get_values()[0])"
   ]
  },
  {
   "cell_type": "code",
   "execution_count": null,
   "metadata": {
    "collapsed": false
   },
   "outputs": [],
   "source": [
    "df['result_val'] = pd.to_numeric(df.result_val, errors = 'coerce')"
   ]
  },
  {
   "cell_type": "code",
   "execution_count": null,
   "metadata": {
    "collapsed": false,
    "scrolled": true
   },
   "outputs": [],
   "source": [
    "df.dtypes"
   ]
  },
  {
   "cell_type": "code",
   "execution_count": null,
   "metadata": {
    "collapsed": false
   },
   "outputs": [],
   "source": [
    "df_new = pd.pivot_table(df, values=\"result_val\", index='timestamp', columns = 'event_description')"
   ]
  },
  {
   "cell_type": "code",
   "execution_count": null,
   "metadata": {
    "collapsed": false
   },
   "outputs": [],
   "source": [
    "df_new.tail()"
   ]
  },
  {
   "cell_type": "code",
   "execution_count": null,
   "metadata": {
    "collapsed": false
   },
   "outputs": [],
   "source": [
    "# Grab unique RRT event times:\n",
    "RRTEventTimes = df.unix_performed_dt_tm[df.event_cd == \"54411998\"].unique()\n",
    "RRT_times = [pd.to_datetime(x, unit='ms') for x in RRTEventTimes]"
   ]
  },
  {
   "cell_type": "code",
   "execution_count": null,
   "metadata": {
    "collapsed": false
   },
   "outputs": [],
   "source": [
    "df_new.columns.get_values()"
   ]
  },
  {
   "cell_type": "code",
   "execution_count": null,
   "metadata": {
    "collapsed": true
   },
   "outputs": [],
   "source": [
    "test = df_new.columns.get_values() "
   ]
  },
  {
   "cell_type": "code",
   "execution_count": null,
   "metadata": {
    "collapsed": false
   },
   "outputs": [],
   "source": [
    "colnames = [item for item in test if item not in [\"RRT Event Form\", \"RRT Primary Reason for Call\"]]"
   ]
  },
  {
   "cell_type": "code",
   "execution_count": null,
   "metadata": {
    "collapsed": false
   },
   "outputs": [],
   "source": [
    "colnames"
   ]
  },
  {
   "cell_type": "code",
   "execution_count": null,
   "metadata": {
    "collapsed": false
   },
   "outputs": [],
   "source": [
    "# pull dates of encounter so we can set xlim up the right way.\n",
    "query_minmaxtimes = \"SELECT arrive_dt_tm, depart_dt_tm FROM encounter WHERE encntr_id = '105479870';\"\n",
    "cur.execute(query_minmaxtimes)\n",
    "arr_dep = cur.fetchall()\n",
    "arr = arr_dep[0][0]\n",
    "dep = arr_dep[0][1]"
   ]
  },
  {
   "cell_type": "code",
   "execution_count": null,
   "metadata": {
    "collapsed": false
   },
   "outputs": [],
   "source": [
    "arr = arr_dep[0][0]"
   ]
  },
  {
   "cell_type": "code",
   "execution_count": null,
   "metadata": {
    "collapsed": false
   },
   "outputs": [],
   "source": [
    "dep = arr_dep[0][1]"
   ]
  },
  {
   "cell_type": "code",
   "execution_count": null,
   "metadata": {
    "collapsed": false,
    "scrolled": true
   },
   "outputs": [],
   "source": [
    "print arr; print dep"
   ]
  },
  {
   "cell_type": "code",
   "execution_count": null,
   "metadata": {
    "collapsed": false
   },
   "outputs": [],
   "source": [
    "arr = pd.to_datetime(arr, unit=\"ms\")\n",
    "dep = pd.to_datetime(dep, unit='ms')"
   ]
  },
  {
   "cell_type": "code",
   "execution_count": null,
   "metadata": {
    "collapsed": false,
    "scrolled": false
   },
   "outputs": [],
   "source": [
    "# Here is an example of a random patient's vitals over time \n",
    "\n",
    "for name in colnames:\n",
    "    plt.figure(figsize=(14,6))\n",
    "    mask = np.isfinite(df_new[name])\n",
    "    plt.plot(df_new[mask].index.to_pydatetime(), df_new[name][mask], '-o')\n",
    "    plt.title(name)\n",
    "    plt.tick_params(labelsize=14)\n",
    "    plt.xlim([arr.to_pydatetime(), dep.to_pydatetime()])\n",
    "\n",
    "    # add vertical lines when RRT Events took place\n",
    "    for val in RRT_times:\n",
    "        plt.axvline(x=val.to_pydatetime(), linewidth = 2)"
   ]
  },
  {
   "cell_type": "markdown",
   "metadata": {},
   "source": [
    "### Pull the code together in a function. Select encounter randomly!"
   ]
  },
  {
   "cell_type": "code",
   "execution_count": null,
   "metadata": {
    "collapsed": false
   },
   "outputs": [],
   "source": [
    "def timeseries_randomRRTpatient():\n",
    "    '''\n",
    "    Query for & plot the vital signs of a patient with an RRT event.\n",
    "    Currently written to return a random encounter.\n",
    "    '''\n",
    "    \n",
    "    query_encid = \"\"\"SELECT DISTINCT encntr_id \\\n",
    "                     FROM clinical_event \\\n",
    "                     WHERE event_cd = '54411998' \\\n",
    "                     AND result_status_cd NOT IN ('31', '36') \\\n",
    "                     AND valid_until_dt_tm > unix_timestamp() \\\n",
    "                     AND event_class_cd not in ('654645');\"\"\"\n",
    "    \n",
    "    # Note - have note checked that encounter has valid end date...\n",
    "    # And haven't separated by location.\n",
    "    cur.execute(query_encid)\n",
    "    RRT_enc_ids = cur.fetchall()\n",
    "    RRTencids = [enc[0] for enc in RRT_enc_ids]\n",
    "    enc_id = np.random.choice(RRTencids)\n",
    "    \n",
    "    \n",
    "    query_vitals = \"\"\"\n",
    "    SELECT \\\n",
    "          ce.clinical_event_id \\\n",
    "        , ce.event_id \\\n",
    "        , ce.encntr_id \\\n",
    "        , ce.person_id \\\n",
    "        , ce.event_cd \\\n",
    "        , cv_event_cd.description AS event_description \\\n",
    "        , ce.performed_dt_tm AS unix_performed_dt_tm \\\n",
    "        , from_unixtime(CAST(ce.performed_dt_tm  / 1000 as bigint)) AS performed_dt_tm \\\n",
    "        , ce.event_tag \\\n",
    "        , ce.result_val \\\n",
    "        , cv_result_units_cd.display AS result_units_display \\\n",
    "        , ce.result_time_units_cd \\\n",
    "        , ce.catalog_cd \\\n",
    "    FROM clinical_event ce \\\n",
    "    LEFT OUTER JOIN code_value cv_event_cd \\\n",
    "    ON ce.event_cd = cv_event_cd.code_value \\\n",
    "    LEFT OUTER JOIN code_value cv_result_units_cd \\ \n",
    "    ON ce.result_units_cd = cv_result_units_cd.code_value \\\n",
    "    WHERE ce.encntr_id = '{0}' \\\n",
    "    AND ce.event_cd IN ( \\\n",
    "                        '703306',\\\n",
    "                        '703501',\\\n",
    "                        '703511',\\\n",
    "                        '703516',\\\n",
    "                        '703540',\\\n",
    "                        '703558',\\\n",
    "                        '703565',\\\n",
    "                        '703569',\\\n",
    "                        '2700541',\\\n",
    "                        '2700653',\\\n",
    "                        '3623994',\\\n",
    "                        '4674677',\\\n",
    "                        '4686698',\\\n",
    "                        '4690633',\\\n",
    "                        '54411998',\\\n",
    "                        '54408578'\\\n",
    "                        )\\\n",
    "    ORDER BY ce.encntr_id, ce.performed_dt_tm;\"\"\".format(enc_id)\n",
    "\n",
    "    cur.execute(query_vitals)\n",
    "    df = as_pandas(cur)\n",
    "\n",
    "    df[\"timestamp\"] = df.performed_dt_tm.apply(lambda x: pd.Timestamp(x))\n",
    "    df['result_val'] = pd.to_numeric(df.result_val, errors = 'coerce')\n",
    "\n",
    "    # pivot the data so it's in the format we need for plotting\n",
    "    df_new = pd.pivot_table(df, values=\"result_val\", index='timestamp', columns = 'event_description')\n",
    "\n",
    "    # Grab unique RRT event times & convert to right format\n",
    "    RRTEventTimes = df.unix_performed_dt_tm[df.event_cd == \"54411998\"].unique()\n",
    "    RRT_times = [pd.to_datetime(x, unit='ms') for x in RRTEventTimes]\n",
    "\n",
    "    # get columns to query\n",
    "    init_colnames = df_new.columns.get_values()\n",
    "    colnames = [item for item in init_colnames if item not in [\"RRT Event Form\", \"RRT Primary Reason for Call\"]]\n",
    "\n",
    "    # print encounter id\n",
    "    print \"encntr_id: {0}\".format(df.encntr_id[0])\n",
    "    print \"RRT reason for call: {0}\".format(df[df.event_cd=='54408578']['event_tag'].get_values()[0])\n",
    "\n",
    "    # pull up & print reason for visit\n",
    "    query_reason = \"SELECT reason_for_visit FROM encounter WHERE encntr_id = '{0}';\".format(df.encntr_id[0])\n",
    "    cur.execute(query_reason)\n",
    "    reason = cur.fetchall()\n",
    "    reason = reason[0][0]\n",
    "    print \"Reason for encounter: {0}\".format(reason)\n",
    "    \n",
    "    # pull dates of encounter so we can set xlim up the right way.\n",
    "    query_minmaxtimes = \"SELECT arrive_dt_tm, depart_dt_tm FROM encounter WHERE encntr_id = '{0}';\".format(df.encntr_id[0])\n",
    "    cur.execute(query_minmaxtimes)\n",
    "    arr_dep = cur.fetchall()\n",
    "    arr = pd.to_datetime(arr_dep[0][0], unit=\"ms\")\n",
    "    dep = pd.to_datetime(arr_dep[0][1], unit=\"ms\")\n",
    "\n",
    "    # plotting: PLOT ALL THE THINGS\n",
    "    for name in colnames:\n",
    "        plt.figure(figsize=(14,8))\n",
    "        mask = np.isfinite(df_new[name])\n",
    "        plt.plot(df_new[mask].index.to_pydatetime(), df_new[name][mask], '-o')\n",
    "        plt.title(name)\n",
    "        plt.tick_params(labelsize=14)\n",
    "        plt.xlim([arr.to_pydatetime(), dep.to_pydatetime()])\n",
    "\n",
    "        # add vertical lines when RRT Events took place\n",
    "        for val in RRT_times:\n",
    "            plt.axvline(x=val.to_pydatetime(), linewidth = 2)"
   ]
  },
  {
   "cell_type": "code",
   "execution_count": null,
   "metadata": {
    "collapsed": false,
    "scrolled": true
   },
   "outputs": [],
   "source": [
    "timeseries_randomRRTpatient()"
   ]
  }
 ],
 "metadata": {
  "anaconda-cloud": {},
  "kernelspec": {
   "display_name": "Python [Root]",
   "language": "python",
   "name": "Python [Root]"
  },
  "language_info": {
   "codemirror_mode": {
    "name": "ipython",
    "version": 2
   },
   "file_extension": ".py",
   "mimetype": "text/x-python",
   "name": "python",
   "nbconvert_exporter": "python",
   "pygments_lexer": "ipython2",
   "version": "2.7.12"
  }
 },
 "nbformat": 4,
 "nbformat_minor": 0
}
