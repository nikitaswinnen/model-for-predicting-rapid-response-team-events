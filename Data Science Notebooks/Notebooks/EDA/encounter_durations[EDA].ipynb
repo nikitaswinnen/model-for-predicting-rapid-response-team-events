{
 "cells": [
  {
   "cell_type": "markdown",
   "metadata": {},
   "source": [
    "### Look at encounter durations to check how long patients are in hospital, for both RRT & non-RRT encounters.\n",
    "#### When this was first done, we did not use the checkin time from the checkin table, where appropriate. Fixed here.\n",
    "#### Starts with looking at the durations for the data we used in model, for rrt & non-rrt. Then goes bigger picture, to show subsets of data."
   ]
  },
  {
   "cell_type": "code",
   "execution_count": null,
   "metadata": {
    "collapsed": true
   },
   "outputs": [],
   "source": [
    "import pandas as pd\n",
    "import numpy as np"
   ]
  },
  {
   "cell_type": "code",
   "execution_count": null,
   "metadata": {
    "collapsed": true
   },
   "outputs": [],
   "source": [
    "from impala.util import as_pandas"
   ]
  },
  {
   "cell_type": "code",
   "execution_count": null,
   "metadata": {
    "collapsed": false
   },
   "outputs": [],
   "source": [
    "# connect to impala\n",
    "from impala.dbapi import connect\n",
    "conn = connect(host=\"mycluster.domain.com\", port=my_impala_port_number)"
   ]
  },
  {
   "cell_type": "code",
   "execution_count": null,
   "metadata": {
    "collapsed": false
   },
   "outputs": [],
   "source": [
    "# Make sure we're pulling from the right location\n",
    "cur = conn.cursor()\n",
    "cur.execute('use my_db')\n"
   ]
  },
  {
   "cell_type": "code",
   "execution_count": null,
   "metadata": {
    "collapsed": true
   },
   "outputs": [],
   "source": [
    "import matplotlib.pyplot as plt\n",
    "%matplotlib notebook\n",
    "plt.style.use('ggplot')"
   ]
  },
  {
   "cell_type": "code",
   "execution_count": null,
   "metadata": {
    "collapsed": true
   },
   "outputs": [],
   "source": [
    "# Show tables to verify you're actually pulling from sandbox\n",
    "cur.execute('SHOW TABLES')\n",
    "cur.fetchall()"
   ]
  },
  {
   "cell_type": "markdown",
   "metadata": {},
   "source": [
    "### Quick numbers: # RRT events & total # encounters (for the main hospital)\n",
    "#### For all patient & location types"
   ]
  },
  {
   "cell_type": "code",
   "execution_count": null,
   "metadata": {
    "collapsed": false
   },
   "outputs": [],
   "source": [
    "query_TotalEncs = \"\"\"\n",
    "SELECT count(1) \n",
    "FROM ( \n",
    "   SELECT DISTINCT encntr_id\n",
    "   FROM encounter \n",
    "   WHERE encntr_complete_dt_tm < 4000000000000 \n",
    "   AND loc_facility_cd = '633867' \n",
    "   ) t;\n",
    "\"\"\"\n",
    "\n",
    "cur.execute(query_TotalEncs)\n",
    "cur.fetchall()"
   ]
  },
  {
   "cell_type": "markdown",
   "metadata": {},
   "source": [
    "#### For admit_type_cd!='0' & encntr_type_class_cd='391"
   ]
  },
  {
   "cell_type": "code",
   "execution_count": null,
   "metadata": {
    "collapsed": false
   },
   "outputs": [],
   "source": [
    "query_TotalEncs = \"\"\"\n",
    "SELECT count(1) \n",
    "FROM ( \n",
    "    SELECT DISTINCT encntr_id\n",
    "    FROM encounter\n",
    "    WHERE encntr_complete_dt_tm < 4e12\n",
    "    AND loc_facility_cd = '633867'\n",
    "    AND admit_type_cd!='0'\n",
    "    AND encntr_type_class_cd='391'\n",
    "    ) t;\n",
    "\"\"\"\n",
    "\n",
    "cur.execute(query_TotalEncs)\n",
    "cur.fetchall()"
   ]
  },
  {
   "cell_type": "markdown",
   "metadata": {},
   "source": [
    "### Examining distribution of encounter durations (with loc_facility_cd)\n",
    "#### Analyze the durations of the RRT event patients."
   ]
  },
  {
   "cell_type": "code",
   "execution_count": null,
   "metadata": {
    "collapsed": false
   },
   "outputs": [],
   "source": [
    "query_count = \"\"\"\n",
    "SELECT count(*) \n",
    "FROM (\n",
    "    SELECT DISTINCT ce.encntr_id\n",
    "    FROM clinical_event ce\n",
    "    INNER JOIN encounter enc ON enc.encntr_id = ce.encntr_id\n",
    "    WHERE ce.event_cd = '54411998'\n",
    "    AND ce.result_status_cd NOT IN ('31', '36')\n",
    "    AND ce.valid_until_dt_tm > 4e12\n",
    "    AND ce.event_class_cd not in ('654645')\n",
    "    AND enc.loc_facility_cd = '633867'\n",
    "    AND enc.encntr_complete_dt_tm < 4e12\n",
    "    AND enc.admit_type_cd!='0'\n",
    "    AND enc.encntr_type_class_cd='391'\n",
    "    ) AS A ;\n",
    "\"\"\"\n",
    "cur.execute(query_count)\n",
    "cur.fetchall()"
   ]
  },
  {
   "cell_type": "code",
   "execution_count": null,
   "metadata": {
    "collapsed": false
   },
   "outputs": [],
   "source": [
    "query_count = \"\"\"\n",
    "SELECT count(*) \n",
    "FROM (\n",
    "    SELECT DISTINCT encntr_id\n",
    "    FROM encounter enc\n",
    "    WHERE enc.loc_facility_cd = '633867'\n",
    "    AND enc.encntr_complete_dt_tm < 4e12\n",
    "    AND enc.admit_type_cd!='0'\n",
    "    AND enc.encntr_type_class_cd='391'\n",
    "    AND encntr_id NOT IN (\n",
    "                        SELECT DISTINCT ce.encntr_id\n",
    "                        FROM clinical_event ce\n",
    "                        INNER JOIN encounter enc ON enc.encntr_id = ce.encntr_id\n",
    "                        WHERE ce.event_cd = '54411998'\n",
    "                        AND ce.result_status_cd NOT IN ('31', '36')\n",
    "                        AND ce.valid_until_dt_tm > 4e12\n",
    "                        AND ce.event_class_cd not in ('654645')\n",
    "                        )\n",
    "    ) AS A;\n",
    "\"\"\"\n",
    "cur.execute(query_count)\n",
    "cur.fetchall()"
   ]
  },
  {
   "cell_type": "markdown",
   "metadata": {},
   "source": [
    "### Let's look at durations for inpatients WITH RRTs from the Main Hospital where encounter_admit_type is not zero"
   ]
  },
  {
   "cell_type": "code",
   "execution_count": null,
   "metadata": {
    "collapsed": false
   },
   "outputs": [],
   "source": [
    "query = \"\"\"\n",
    "SELECT \n",
    "      DISTINCT ce.encntr_id \n",
    "    , COALESCE(tci.checkin_dt_tm, enc.arrive_dt_tm) AS checkin_dt_tm\n",
    "    , enc.depart_dt_tm as depart_dt_tm\n",
    "    , (enc.depart_dt_tm - COALESCE(tci.checkin_dt_tm, enc.arrive_dt_tm))/3600000 AS diff_hours\n",
    "    , enc.reason_for_visit\n",
    "    , enc.admit_src_cd\n",
    "    , enc.admit_type_cd\n",
    "FROM clinical_event ce \n",
    "INNER JOIN encounter enc ON enc.encntr_id = ce.encntr_id\n",
    "LEFT OUTER JOIN  ( \n",
    "                SELECT  \n",
    "                      ti.encntr_id AS encntr_id\n",
    "                    , MIN(tc.checkin_dt_tm) AS checkin_dt_tm\n",
    "                FROM tracking_item ti\n",
    "                JOIN tracking_checkin tc ON ti.tracking_id = tc.tracking_id\n",
    "                GROUP BY ti.encntr_id \n",
    "                 ) tci\n",
    "ON tci.encntr_id = enc.encntr_id\n",
    "WHERE enc.loc_facility_cd = '633867'\n",
    "AND enc.encntr_complete_dt_tm < 4e12\n",
    "AND enc.admit_type_cd!='0'\n",
    "AND enc.encntr_type_class_cd='391'\n",
    "AND enc.encntr_id IN ( \n",
    "                    SELECT DISTINCT ce.encntr_id\n",
    "                    FROM clinical_event ce\n",
    "                    WHERE ce.event_cd = '54411998'\n",
    "                    AND ce.result_status_cd NOT IN ('31', '36')\n",
    "                    AND ce.valid_until_dt_tm > 4e12\n",
    "                    AND ce.event_class_cd not in ('654645') \n",
    "                    )\n",
    ";\"\"\""
   ]
  },
  {
   "cell_type": "code",
   "execution_count": null,
   "metadata": {
    "collapsed": false,
    "scrolled": true
   },
   "outputs": [],
   "source": [
    "cur.execute(query)\n",
    "df_rrt = as_pandas(cur)"
   ]
  },
  {
   "cell_type": "code",
   "execution_count": null,
   "metadata": {
    "collapsed": false,
    "scrolled": true
   },
   "outputs": [],
   "source": [
    "df_rrt.head()"
   ]
  },
  {
   "cell_type": "code",
   "execution_count": null,
   "metadata": {
    "collapsed": false
   },
   "outputs": [],
   "source": [
    "df_rrt.describe().T\n",
    "# the mean stay is 292 hours (12.1 days).\n",
    "# The median stay is 184 hours (7.67 days)\n",
    "# The minimum stay is 8 hours. The longest stay is 3550 hours (~148 days)"
   ]
  },
  {
   "cell_type": "code",
   "execution_count": null,
   "metadata": {
    "collapsed": false,
    "scrolled": false
   },
   "outputs": [],
   "source": [
    "plt.figure()\n",
    "df_rrt.diff_hours.hist(bins = 300)\n",
    "plt.xlim(0, 600)"
   ]
  },
  {
   "cell_type": "code",
   "execution_count": null,
   "metadata": {
    "collapsed": false
   },
   "outputs": [],
   "source": [
    "# Records with short durations:\n",
    "df_rrt[df_rrt.diff_hours < 12]"
   ]
  },
  {
   "cell_type": "markdown",
   "metadata": {},
   "source": [
    "### Let's look at durations for inpatients WITHOUT RRTs from the Main Hospital where encounter_admit_type is not zero"
   ]
  },
  {
   "cell_type": "code",
   "execution_count": null,
   "metadata": {
    "collapsed": true
   },
   "outputs": [],
   "source": [
    "query = \"\"\"\n",
    "SELECT DISTINCT \n",
    "      ce.encntr_id\n",
    "    , COALESCE(tci.checkin_dt_tm\n",
    "    , enc.arrive_dt_tm) AS checkin_dt_tm\n",
    "    , enc.depart_dt_tm as depart_dt_tm\n",
    "    , (enc.depart_dt_tm - COALESCE(tci.checkin_dt_tm, enc.arrive_dt_tm))/3600000 AS diff_hours\n",
    "    , enc.reason_for_visit\n",
    "    , enc.admit_src_cd\n",
    "    , enc.admit_type_cd\n",
    "FROM clinical_event ce \n",
    "INNER JOIN encounter enc ON enc.encntr_id = ce.encntr_id\n",
    "LEFT OUTER JOIN  ( \n",
    "                SELECT  \n",
    "                      ti.encntr_id AS encntr_id\n",
    "                    , MIN(tc.checkin_dt_tm)  AS checkin_dt_tm\n",
    "                FROM tracking_item ti\n",
    "                JOIN tracking_checkin tc ON ti.tracking_id = tc.tracking_id\n",
    "                GROUP BY ti.encntr_id \n",
    "                ) tci\n",
    "ON tci.encntr_id = enc.encntr_id\n",
    "WHERE enc.loc_facility_cd = '633867'\n",
    "AND enc.encntr_complete_dt_tm < 4e12\n",
    "AND enc.admit_type_cd!='0'\n",
    "AND enc.encntr_type_class_cd='391'\n",
    "AND enc.encntr_id NOT IN ( \n",
    "                        SELECT DISTINCT ce.encntr_id\n",
    "                        FROM clinical_event ce\n",
    "                        WHERE ce.event_cd = '54411998'\n",
    "                        AND ce.result_status_cd NOT IN ('31', '36')\n",
    "                        AND ce.valid_until_dt_tm > 4e12\n",
    "                        AND ce.event_class_cd not in ('654645') \n",
    "                        )\n",
    ";\"\"\""
   ]
  },
  {
   "cell_type": "code",
   "execution_count": null,
   "metadata": {
    "collapsed": true
   },
   "outputs": [],
   "source": [
    "cur.execute(query)\n",
    "df_nonrrt = as_pandas(cur)"
   ]
  },
  {
   "cell_type": "code",
   "execution_count": null,
   "metadata": {
    "collapsed": false
   },
   "outputs": [],
   "source": [
    "df_nonrrt.describe().T\n",
    "# NonRRT: The mean stay is 122 hours (5 days) // RRT: The mean stay is 292 hours (12.1 days).\n",
    "# NonRRT: The median stay is 77 hours (3.21 days)// RRT: The median stay is 184 hours (7.67 days)\n",
    "# NonRRT: The minimum stay is 0.08 hours // RRT: The minimum stay is ~8 hours."
   ]
  },
  {
   "cell_type": "code",
   "execution_count": null,
   "metadata": {
    "collapsed": false
   },
   "outputs": [],
   "source": [
    "plt.figure()\n",
    "df_nonrrt.diff_hours.hist(bins = 500)\n",
    "plt.xlim(0, 600)"
   ]
  },
  {
   "cell_type": "markdown",
   "metadata": {},
   "source": [
    "### Plot both together to see how encounter duration distributions are different"
   ]
  },
  {
   "cell_type": "code",
   "execution_count": null,
   "metadata": {
    "collapsed": false
   },
   "outputs": [],
   "source": [
    "plt.figure(figsize = (10,8))\n",
    "df_rrt.diff_hours.plot.hist(alpha=0.4, bins=400,normed=True)\n",
    "df_nonrrt.diff_hours.plot.hist(alpha=0.4, bins=800,normed=True)\n",
    "plt.xlabel('Hospital Stay Durations, hours', fontsize=14)\n",
    "plt.ylabel('Normalized Frequency', fontsize=14)\n",
    "plt.legend(['RRT', 'Non RRT'])\n",
    "plt.tick_params(labelsize=14)\n",
    "plt.xlim(0, 1000)"
   ]
  },
  {
   "cell_type": "markdown",
   "metadata": {},
   "source": [
    "## Even accounting for the hospital, inpatients status, and accounting for some admit_type_cd, the durations are still quite different betwen RRT & non-RRT.\n",
    "### Trying some subset vizualizations -- these show no difference"
   ]
  },
  {
   "cell_type": "code",
   "execution_count": null,
   "metadata": {
    "collapsed": true
   },
   "outputs": [],
   "source": [
    "print df_nonrrt.admit_type_cd.value_counts()\n",
    "print\n",
    "print df_rrt.admit_type_cd.value_counts()"
   ]
  },
  {
   "cell_type": "code",
   "execution_count": null,
   "metadata": {
    "collapsed": false
   },
   "outputs": [],
   "source": [
    "print df_nonrrt.admit_src_cd.value_counts()\n",
    "print\n",
    "print df_rrt.admit_src_cd.value_counts()"
   ]
  },
  {
   "cell_type": "code",
   "execution_count": null,
   "metadata": {
    "collapsed": false
   },
   "outputs": [],
   "source": [
    "plt.figure(figsize = (10,8))\n",
    "df_rrt[df_rrt.admit_type_cd=='309203'].diff_hours.plot.hist(alpha=0.4, bins=300,normed=True)\n",
    "df_nonrrt[df_nonrrt.admit_type_cd=='309203'].diff_hours.plot.hist(alpha=0.4, bins=600,normed=True)\n",
    "# plt.xlabel('Hospital Stay Durations, hours', fontsize=14)\n",
    "# plt.ylabel('Normalized Frequency', fontsize=14)\n",
    "plt.legend(['RRT', 'Non RRT'])\n",
    "plt.tick_params(labelsize=14)\n",
    "plt.xlim(0, 1000)"
   ]
  },
  {
   "cell_type": "code",
   "execution_count": null,
   "metadata": {
    "collapsed": false
   },
   "outputs": [],
   "source": [
    "plt.figure(figsize = (10,8))\n",
    "df_rrt[df_rrt.admit_src_cd=='309196'].diff_hours.plot.hist(alpha=0.4, bins=300,normed=True)\n",
    "df_nonrrt[df_nonrrt.admit_src_cd=='309196'].diff_hours.plot.hist(alpha=0.4, bins=600,normed=True)\n",
    "# plt.xlabel('Hospital Stay Durations, days', fontsize=14)\n",
    "# plt.ylabel('Normalized Frequency', fontsize=14)\n",
    "plt.legend(['RRT', 'Non RRT'])\n",
    "plt.tick_params(labelsize=14)\n",
    "plt.xlim(0, 1000)"
   ]
  },
  {
   "cell_type": "markdown",
   "metadata": {},
   "source": [
    "# Despite controlling for patient parameters, patients with RRT events stay in the hospital longer than non-RRT event having patients."
   ]
  },
  {
   "cell_type": "markdown",
   "metadata": {},
   "source": [
    "## Rerun previous EDA on hospital & patient types"
   ]
  },
  {
   "cell_type": "markdown",
   "metadata": {},
   "source": [
    "### Let's take a step back and look at the encounter table, for all hospitals and patient types [but using corrected time duration]."
   ]
  },
  {
   "cell_type": "code",
   "execution_count": null,
   "metadata": {
    "collapsed": true
   },
   "outputs": [],
   "source": [
    "# For encounters with RRT events\n",
    "query = \"\"\"\n",
    "SELECT DISTINCT \n",
    "      ce.encntr_id\n",
    "    , COALESCE(tci.checkin_dt_tm\n",
    "    , enc.arrive_dt_tm) AS checkin_dt_tm\n",
    "    , enc.depart_dt_tm as depart_dt_tm\n",
    "    , (enc.depart_dt_tm - COALESCE(tci.checkin_dt_tm, enc.arrive_dt_tm))/3600000 AS diff_hours\n",
    "    , enc.reason_for_visit\n",
    "    , enc.admit_type_cd, cv_admit_type.description as admit_type_desc\n",
    "    , enc.encntr_type_cd\n",
    "    , cv_enc_type.description as enc_type_desc\n",
    "    , enc.encntr_type_class_cd\n",
    "    , cv_enc_type_class.description as enc_type_class_desc\n",
    "    , enc.admit_src_cd\n",
    "    , cv_admit_src.description as admit_src_desc\n",
    "    , enc.loc_facility_cd\n",
    "    , cv_loc_fac.description as loc_desc\n",
    "FROM clinical_event ce \n",
    "INNER JOIN encounter enc ON enc.encntr_id = ce.encntr_id\n",
    "LEFT OUTER JOIN code_value cv_admit_type ON enc.admit_type_cd = cv_admit_type.code_value\n",
    "LEFT OUTER JOIN code_value cv_enc_type ON enc.encntr_type_cd = cv_enc_type.code_value\n",
    "LEFT OUTER JOIN code_value cv_enc_type_class ON enc.encntr_type_class_cd = cv_enc_type_class.code_value\n",
    "LEFT OUTER JOIN code_value cv_admit_src ON enc.admit_src_cd = cv_admit_src.code_value\n",
    "LEFT OUTER JOIN code_value cv_loc_fac ON enc.loc_facility_cd = cv_loc_fac.code_value\n",
    "LEFT OUTER JOIN  ( \n",
    "                SELECT  \n",
    "                      ti.encntr_id AS encntr_id\n",
    "                    , MIN(tc.checkin_dt_tm) AS checkin_dt_tm\n",
    "                FROM tracking_item ti\n",
    "                JOIN tracking_checkin tc ON ti.tracking_id = tc.tracking_id\n",
    "                GROUP BY ti.encntr_id \n",
    "                ) tci\n",
    "ON tci.encntr_id = enc.encntr_id\n",
    "WHERE enc.encntr_id IN ( \n",
    "                    SELECT DISTINCT ce.encntr_id\n",
    "                    FROM clinical_event ce\n",
    "                    WHERE ce.event_cd = '54411998'\n",
    "                    AND ce.result_status_cd NOT IN ('31', '36')\n",
    "                    AND ce.valid_until_dt_tm > 4e12\n",
    "                    AND ce.event_class_cd not in ('654645') \n",
    "                    )\n",
    ";\"\"\""
   ]
  },
  {
   "cell_type": "code",
   "execution_count": null,
   "metadata": {
    "collapsed": false
   },
   "outputs": [],
   "source": [
    "cur.execute(query)\n",
    "df = as_pandas(cur)"
   ]
  },
  {
   "cell_type": "code",
   "execution_count": null,
   "metadata": {
    "collapsed": false
   },
   "outputs": [],
   "source": [
    "df.describe().T"
   ]
  },
  {
   "cell_type": "code",
   "execution_count": null,
   "metadata": {
    "collapsed": false
   },
   "outputs": [],
   "source": [
    "# check nulls\n",
    "print df[pd.isnull(df.diff_hours)].count()\n",
    "print \n",
    "print df[~pd.isnull(df.diff_hours)].count()"
   ]
  },
  {
   "cell_type": "code",
   "execution_count": null,
   "metadata": {
    "collapsed": false,
    "scrolled": true
   },
   "outputs": [],
   "source": [
    "df[pd.isnull(df.diff_hours)]"
   ]
  },
  {
   "cell_type": "code",
   "execution_count": null,
   "metadata": {
    "collapsed": false
   },
   "outputs": [],
   "source": [
    "# can't work with the nans in there... delete these rows\n",
    "print df.shape\n",
    "df = df[~pd.isnull(df['depart_dt_tm'])]\n",
    "df = df.reset_index(drop=True)\n",
    "print df.shape"
   ]
  },
  {
   "cell_type": "code",
   "execution_count": null,
   "metadata": {
    "collapsed": false
   },
   "outputs": [],
   "source": [
    "df.describe().T\n",
    "# RRT encounters for all patients/hospitals\n",
    "# All RRT: mean stay: 293.5 hours // NonRRT: The mean stay is 122 hours (5 days) // RRT: The mean stay is 292 hours (12.1 days).\n",
    "# All RRT: median stay: 190 hours // NonRRT: The median stay is 77 hours (3.21 days)// RRT: The median stay is 184 hours (7.67 days)\n",
    "# All RRT: min stay: 0 hours // NonRRT: The minimum stay is 0.08 hours // RRT: The minimum stay is ~8 hours."
   ]
  },
  {
   "cell_type": "code",
   "execution_count": null,
   "metadata": {
    "collapsed": false
   },
   "outputs": [],
   "source": [
    "# Let's be suspicious of short encounters, say, under 6 hours.\n",
    "# There are two cases where the number of hours = 0, these both have admit_type_cd=0, loc_facility_cd = 4382287. & ecntr_type_class_cd=393\n",
    "df[df.diff_hours < 6]"
   ]
  },
  {
   "cell_type": "markdown",
   "metadata": {},
   "source": [
    "### The notebook Probe_encounter_types_classes explores admit type, class types & counts"
   ]
  },
  {
   "cell_type": "code",
   "execution_count": null,
   "metadata": {
    "collapsed": false
   },
   "outputs": [],
   "source": [
    "plt.figure()\n",
    "df['diff_hours'].plot.hist(bins=500)\n",
    "plt.xlabel(\"Hospital Stay Duration, days\")\n",
    "plt.title(\"Range of stays, patients with RRT\")\n",
    "plt.xlim(0, 2000)"
   ]
  },
  {
   "cell_type": "markdown",
   "metadata": {},
   "source": [
    "## Group by facility\n",
    "### We want to pull from similar patient populations"
   ]
  },
  {
   "cell_type": "code",
   "execution_count": null,
   "metadata": {
    "collapsed": false
   },
   "outputs": [],
   "source": [
    "df.head()"
   ]
  },
  {
   "cell_type": "code",
   "execution_count": null,
   "metadata": {
    "collapsed": false
   },
   "outputs": [],
   "source": [
    "df.loc_desc.value_counts()"
   ]
  },
  {
   "cell_type": "code",
   "execution_count": null,
   "metadata": {
    "collapsed": true
   },
   "outputs": [],
   "source": [
    "grouped = df.groupby('loc_desc')"
   ]
  },
  {
   "cell_type": "code",
   "execution_count": null,
   "metadata": {
    "collapsed": false
   },
   "outputs": [],
   "source": [
    "grouped.describe()"
   ]
  },
  {
   "cell_type": "markdown",
   "metadata": {},
   "source": [
    "### Most number of results from 633867, or The Main Hospital"
   ]
  },
  {
   "cell_type": "code",
   "execution_count": null,
   "metadata": {
    "collapsed": false
   },
   "outputs": [],
   "source": [
    "df.diff_hours.hist(by=df.loc_desc, bins=300)"
   ]
  },
  {
   "cell_type": "code",
   "execution_count": null,
   "metadata": {
    "collapsed": true
   },
   "outputs": [],
   "source": [
    "# Use locations 4382264, 4382273, 633867"
   ]
  },
  {
   "cell_type": "code",
   "execution_count": null,
   "metadata": {
    "collapsed": false,
    "scrolled": false
   },
   "outputs": [],
   "source": [
    "plt.figure(figsize=(12, 6))\n",
    "df[df['loc_facility_cd']=='633867']['diff_hours'].plot.hist(alpha=0.4, bins=300,normed=True)\n",
    "df[df['loc_facility_cd']=='4382264']['diff_hours'].plot.hist(alpha=0.4, bins=300,normed=True)\n",
    "df[df['loc_facility_cd']=='4382273']['diff_hours'].plot.hist(alpha=0.4, bins=300,normed=True)\n",
    "plt.xlabel('Hospital Stay Durations, days', fontsize=14)\n",
    "plt.ylabel('Normalized Frequency', fontsize=14)\n",
    "# plt.legend(['633867', '4382264', '4382273'])\n",
    "plt.legend([\"Main Hospital\", \"Sattelite Hospital 1\", \"Sattelite Hospital 2\"])\n",
    "plt.tick_params(labelsize=14)\n",
    "plt.xlim(0, 1000)"
   ]
  },
  {
   "cell_type": "markdown",
   "metadata": {},
   "source": [
    "## Looks like these three locations (633867, 4382264, 4382273) have about the same distribution. \n",
    "#### Appropriate test to verify this: 2-sample Kolmogorov-Smirnov, if you're willing to compare pairwise...other tests? Wikipedia has a good article with references: https://en.wikipedia.org/wiki/Kolmogorov–Smirnov_test. Null hypothesis: the samples come from the same distribution. The null hypothesis is rejected if the test statistic is greater than the critical value (see wiki article)\n"
   ]
  },
  {
   "cell_type": "code",
   "execution_count": null,
   "metadata": {
    "collapsed": true
   },
   "outputs": [],
   "source": [
    "from scipy.stats import ks_2samp"
   ]
  },
  {
   "cell_type": "code",
   "execution_count": null,
   "metadata": {
    "collapsed": false
   },
   "outputs": [],
   "source": [
    "ks_2samp(df[df['loc_facility_cd']=='633867']['diff_hours'],df[df['loc_facility_cd']=='4382264']['diff_hours'])"
   ]
  },
  {
   "cell_type": "code",
   "execution_count": null,
   "metadata": {
    "collapsed": true
   },
   "outputs": [],
   "source": [
    "# Critical test statistic at alpha = 0.05: = 1.36 * sqrt((n1+n2)/n1*n2) = 1.36*(sqrt((1775+582)/(1775*582)) = 0.065\n",
    "# 0.074 > 0.065 -> null hypothesis rejected at level 0.05. --> histograms are different"
   ]
  },
  {
   "cell_type": "code",
   "execution_count": null,
   "metadata": {
    "collapsed": false
   },
   "outputs": [],
   "source": [
    "ks_2samp(df[df['loc_facility_cd']=='4382264']['diff_hours'], df[df['loc_facility_cd']=='4382273']['diff_hours'])"
   ]
  },
  {
   "cell_type": "code",
   "execution_count": null,
   "metadata": {
    "collapsed": true
   },
   "outputs": [],
   "source": [
    "# Critical test statistic at alpha = 0.05: = 1.36 * sqrt((n1+n2)/n1*n2) = 1.36*(sqrt((997+582)/(997*582)) = 0.071\n",
    "# 0.05 !> 0.071 -> fail to reject null hypothesis at level 0.05. --> histograms are similar"
   ]
  },
  {
   "cell_type": "code",
   "execution_count": null,
   "metadata": {
    "collapsed": false
   },
   "outputs": [],
   "source": [
    "ks_2samp(df[df['loc_facility_cd']=='633867']['diff_hours'],df[df['loc_facility_cd']=='4382273']['diff_hours'])"
   ]
  },
  {
   "cell_type": "code",
   "execution_count": null,
   "metadata": {
    "collapsed": true
   },
   "outputs": [],
   "source": [
    "# Critical test statistic at alpha = 0.05: = 1.36 * sqrt((n1+n2)/n1*n2) = 1.36*(sqrt((1775+997)/(1775*997)) = 0.054\n",
    "# 0.094 > 0.054 -> null hypothesis rejected at level 0.05. --> histograms are different; p-value indicates they're very different"
   ]
  },
  {
   "cell_type": "markdown",
   "metadata": {},
   "source": [
    "#### From scipy documentation: \"If the KS statistic is small or the p-value is high, then we cannot reject the hypothesis that the distributions of the two samples are the same\"\n",
    "Null hypothesis: the distributions are the same.\n",
    "Looks like samples from 4382273 are different... plot that & 633867"
   ]
  },
  {
   "cell_type": "code",
   "execution_count": null,
   "metadata": {
    "collapsed": false
   },
   "outputs": [],
   "source": [
    "plt.figure(figsize=(10,8))\n",
    "df[df['loc_facility_cd']=='633867']['diff_hours'].plot.hist(alpha=0.4, bins=500,normed=True)\n",
    "df[df['loc_facility_cd']=='4382273']['diff_hours'].plot.hist(alpha=0.4, bins=700,normed=True)\n",
    "plt.xlabel('Hospital Stay Durations, hours')\n",
    "plt.legend(['633867', '4382273'])\n",
    "plt.xlim(0, 1000)"
   ]
  },
  {
   "cell_type": "markdown",
   "metadata": {},
   "source": [
    "# Let's compare encounter duration histograms for patients with RRT & without RRT events, and see if there is a right subset of data to be selected for modeling\n",
    "### (There is)"
   ]
  },
  {
   "cell_type": "code",
   "execution_count": null,
   "metadata": {
    "collapsed": false
   },
   "outputs": [],
   "source": [
    "df.columns"
   ]
  },
  {
   "cell_type": "code",
   "execution_count": null,
   "metadata": {
    "collapsed": false
   },
   "outputs": [],
   "source": [
    "df.admit_src_desc.value_counts()"
   ]
  },
  {
   "cell_type": "code",
   "execution_count": null,
   "metadata": {
    "collapsed": false
   },
   "outputs": [],
   "source": [
    "df.enc_type_class_desc.value_counts()\n",
    "# vast majority are inpatient"
   ]
  },
  {
   "cell_type": "code",
   "execution_count": null,
   "metadata": {
    "collapsed": false
   },
   "outputs": [],
   "source": [
    "df.enc_type_desc.value_counts()"
   ]
  },
  {
   "cell_type": "code",
   "execution_count": null,
   "metadata": {
    "collapsed": false
   },
   "outputs": [],
   "source": [
    "df.admit_type_desc.value_counts()"
   ]
  },
  {
   "cell_type": "markdown",
   "metadata": {},
   "source": [
    "## Plot RRT & non-RRT with different codes"
   ]
  },
  {
   "cell_type": "code",
   "execution_count": null,
   "metadata": {
    "collapsed": false
   },
   "outputs": [],
   "source": [
    "# For encounters without RRT events, from Main Hospital.\n",
    "# takes a while to run -- several minutes\n",
    "query = \"\"\"\n",
    "SELECT DISTINCT \n",
    "      ce.encntr_id\n",
    "    , COALESCE(tci.checkin_dt_tm\n",
    "    , enc.arrive_dt_tm) AS checkin_dt_tm\n",
    "    , enc.depart_dt_tm as depart_dt_tm\n",
    "    , (enc.depart_dt_tm - COALESCE(tci.checkin_dt_tm, enc.arrive_dt_tm))/3600000 AS diff_hours\n",
    "    , enc.reason_for_visit\n",
    "    , enc.admit_type_cd\n",
    "    , cv_admit_type.description as admit_type_desc\n",
    "    , enc.encntr_type_cd\n",
    "    , cv_enc_type.description as enc_type_desc\n",
    "    , enc.encntr_type_class_cd\n",
    "    , cv_enc_type_class.description as enc_type_class_desc\n",
    "    , enc.admit_src_cd\n",
    "    , cv_admit_src.description as admit_src_desc\n",
    "    , enc.loc_facility_cd\n",
    "    , cv_loc_fac.description as loc_desc\n",
    "FROM clinical_event ce \n",
    "INNER JOIN encounter enc ON enc.encntr_id = ce.encntr_id\n",
    "LEFT OUTER JOIN code_value cv_admit_type ON enc.admit_type_cd = cv_admit_type.code_value\n",
    "LEFT OUTER JOIN code_value cv_enc_type ON enc.encntr_type_cd = cv_enc_type.code_value\n",
    "LEFT OUTER JOIN code_value cv_enc_type_class ON enc.encntr_type_class_cd = cv_enc_type_class.code_value\n",
    "LEFT OUTER JOIN code_value cv_admit_src ON enc.admit_src_cd = cv_admit_src.code_value\n",
    "LEFT OUTER JOIN code_value cv_loc_fac ON enc.loc_facility_cd = cv_loc_fac.code_value\n",
    "LEFT OUTER JOIN  ( \n",
    "                SELECT  \n",
    "                      ti.encntr_id AS encntr_id\n",
    "                    , MIN(tc.checkin_dt_tm) AS checkin_dt_tm\n",
    "                FROM tracking_item ti\n",
    "                JOIN tracking_checkin tc ON ti.tracking_id = tc.tracking_id\n",
    "                GROUP BY ti.encntr_id \n",
    "                ) tci\n",
    "ON tci.encntr_id = enc.encntr_id\n",
    "WHERE enc.loc_facility_cd='633867'\n",
    "AND enc.encntr_id NOT IN ( \n",
    "                        SELECT DISTINCT ce.encntr_id\n",
    "                        FROM clinical_event ce\n",
    "                        WHERE ce.event_cd = '54411998'\n",
    "                        AND ce.result_status_cd NOT IN ('31', '36')\n",
    "                        AND ce.valid_until_dt_tm > 4e12\n",
    "                        AND ce.event_class_cd not in ('654645') \n",
    "                        )\n",
    ";\"\"\"\n",
    "cur.execute(query)\n",
    "df_nrrt = as_pandas(cur)"
   ]
  },
  {
   "cell_type": "code",
   "execution_count": null,
   "metadata": {
    "collapsed": false
   },
   "outputs": [],
   "source": [
    "df_nrrt.describe()"
   ]
  },
  {
   "cell_type": "code",
   "execution_count": null,
   "metadata": {
    "collapsed": false
   },
   "outputs": [],
   "source": [
    "df_nrrt[~pd.isnull(df_nrrt['depart_dt_tm'])].count()"
   ]
  },
  {
   "cell_type": "code",
   "execution_count": null,
   "metadata": {
    "collapsed": false
   },
   "outputs": [],
   "source": [
    "# can't work with the nans in there... delete these rows\n",
    "print df_nrrt.shape\n",
    "df_nrrt = df_nrrt[~pd.isnull(df_nrrt['depart_dt_tm'])]\n",
    "df_nrrt = df_nrrt.reset_index(drop=True)\n",
    "print df_nrrt.shape"
   ]
  },
  {
   "cell_type": "code",
   "execution_count": null,
   "metadata": {
    "collapsed": false
   },
   "outputs": [],
   "source": [
    "plt.figure(figsize=(10,8))\n",
    "df[df['loc_facility_cd']=='633867']['diff_hours'].plot.hist(alpha=0.5, bins=500,normed=True)\n",
    "df_nrrt['diff_hours'].plot.hist(alpha=0.5, bins=900,normed=True)\n",
    "plt.xlabel('Stay Durations at Main Hospital [hours]')\n",
    "plt.legend(['RRT patients', 'Non-RRT patients'])\n",
    "plt.title('For all non-RRT patients')\n",
    "plt.xlim(0, 800)"
   ]
  },
  {
   "cell_type": "code",
   "execution_count": null,
   "metadata": {
    "collapsed": false
   },
   "outputs": [],
   "source": [
    "plt.figure(figsize=(10,8))\n",
    "df[df['loc_facility_cd']=='633867']['diff_hours'][df.admit_type_cd != '0'].plot.hist(alpha=0.5, bins=500,normed=True)\n",
    "df_nrrt['diff_hours'][df_nrrt.admit_type_cd != '0'].plot.hist(alpha=0.5, bins=900,normed=True)\n",
    "plt.xlabel('Stay Durations at Main Hospital [hours]')\n",
    "plt.legend(['RRT patients', 'Non-RRT patients'])\n",
    "plt.title('For patients with admit_type_cd !=0')\n",
    "plt.xlim(0, 800)"
   ]
  },
  {
   "cell_type": "code",
   "execution_count": null,
   "metadata": {
    "collapsed": false
   },
   "outputs": [],
   "source": [
    "plt.figure(figsize=(10,8))\n",
    "df[df['loc_facility_cd']=='633867']['diff_hours'][df.encntr_type_class_cd=='391'].plot.hist(alpha=0.5, bins=500,normed=True)\n",
    "df_nrrt['diff_hours'][df_nrrt.encntr_type_class_cd=='391'].plot.hist(alpha=0.5, bins=900,normed=True)\n",
    "plt.xlabel('Stay Durations at Main Hospital [hours]')\n",
    "plt.legend(['RRT patients', 'Non-RRT patients'])\n",
    "plt.title('For patients with encntr_type_class_cd==\"391\"')\n",
    "plt.xlim(0, 800)"
   ]
  },
  {
   "cell_type": "code",
   "execution_count": null,
   "metadata": {
    "collapsed": false
   },
   "outputs": [],
   "source": [
    "plt.figure(figsize=(10,8))\n",
    "df[df['loc_facility_cd']=='633867']['diff_hours'][(df.encntr_type_class_cd=='391') & (df.admit_type_cd != '0')].plot.hist(alpha=0.5, bins=500,normed=True)\n",
    "df_nrrt['diff_hours'][(df_nrrt.encntr_type_class_cd=='391') & (df_nrrt.admit_type_cd != '0')].plot.hist(alpha=0.5, bins=1000,normed=True)\n",
    "plt.xlabel('Stay Durations at Main Hospital [hours]')\n",
    "plt.legend(['RRT patients', 'Non-RRT patients'])\n",
    "plt.title('For patients with encntr_type_class_cd==\"391\" & df.admit_type_cd != \"0\" ')\n",
    "plt.xlim(0, 800)"
   ]
  },
  {
   "cell_type": "code",
   "execution_count": null,
   "metadata": {
    "collapsed": false
   },
   "outputs": [],
   "source": [
    "df_nrrt.describe()"
   ]
  },
  {
   "cell_type": "code",
   "execution_count": null,
   "metadata": {
    "collapsed": false
   },
   "outputs": [],
   "source": [
    "# There are values of diff_hours that are negative.\n",
    "df_nrrt[df_nrrt.diff_hours<0].count()"
   ]
  },
  {
   "cell_type": "code",
   "execution_count": null,
   "metadata": {
    "collapsed": false
   },
   "outputs": [],
   "source": [
    "# But, there are no such values after we correct for encounter type class & admit type\n",
    "df_nrrt[(df_nrrt.encntr_type_class_cd=='391') & (df_nrrt.admit_type_cd != '0')][df_nrrt.diff_hours<0].count()"
   ]
  }
 ],
 "metadata": {
  "anaconda-cloud": {},
  "kernelspec": {
   "display_name": "Python [Root]",
   "language": "python",
   "name": "Python [Root]"
  },
  "language_info": {
   "codemirror_mode": {
    "name": "ipython",
    "version": 2
   },
   "file_extension": ".py",
   "mimetype": "text/x-python",
   "name": "python",
   "nbconvert_exporter": "python",
   "pygments_lexer": "ipython2",
   "version": "2.7.12"
  }
 },
 "nbformat": 4,
 "nbformat_minor": 0
}
