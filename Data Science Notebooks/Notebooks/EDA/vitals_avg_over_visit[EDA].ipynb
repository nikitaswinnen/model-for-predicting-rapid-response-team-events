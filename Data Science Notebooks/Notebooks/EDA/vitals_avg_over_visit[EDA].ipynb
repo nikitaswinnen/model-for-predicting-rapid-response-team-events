{
 "cells": [
  {
   "cell_type": "code",
   "execution_count": null,
   "metadata": {
    "collapsed": true
   },
   "outputs": [],
   "source": [
    "import pandas as pd\n",
    "import matplotlib.pyplot as plt\n",
    "plt.style.use('ggplot')\n",
    "%matplotlib inline\n",
    "from impala.dbapi import connect\n",
    "from impala.util import as_pandas"
   ]
  },
  {
   "cell_type": "code",
   "execution_count": null,
   "metadata": {
    "collapsed": true
   },
   "outputs": [],
   "source": [
    "# connect to impala\n",
    "conn = connect(host=\"mycluster.domain.com\", port=my_impala_port_number)\n",
    "# Make sure we\"re pulling from the right location\n",
    "cur = conn.cursor()\n",
    "cur.execute(\"use my_db\")"
   ]
  },
  {
   "cell_type": "code",
   "execution_count": null,
   "metadata": {
    "collapsed": true
   },
   "outputs": [],
   "source": [
    "# Need to select time range:\n",
    "# Try Aug 1-2, 2016.\n",
    "# Aug 1 - starttimebox = 1470009600000\n",
    "# Aug 2 - endtimebox = 1470096000000\n",
    "# Aug 5 = 1470355200000"
   ]
  },
  {
   "cell_type": "markdown",
   "metadata": {
    "collapsed": true
   },
   "source": [
    "## Compare if patients with RRTs have similar average vital signs over their visit, compared to non-RRT patients. By this, we're asking if patients with RRTs are sicker than their non-RRT peers"
   ]
  },
  {
   "cell_type": "markdown",
   "metadata": {},
   "source": [
    "### Plot: scatter plot of O2 & Respiratory Rate (two most common vital signs) ... plot mean of values available for each patient (so that way, each O2 value should have a RR partner).\n",
    "#### non-RRT patients in 1 color; RRT patients in another\n",
    "### Hypothesis: if you only grab & avg all the observed values, you'll not see a significant difference between the two populations... may want to have more than 1 days worth of data, to capture more events."
   ]
  },
  {
   "cell_type": "code",
   "execution_count": null,
   "metadata": {
    "collapsed": true
   },
   "outputs": [],
   "source": [
    "# Following query returns averages of SpO2 & RR values for each encounterid.\n",
    "# Needs to be reshaped into columnar format.\n",
    "query_RRT = \"\"\"\n",
    "SELECT \n",
    "      ce.encntr_id\n",
    "    , ce.event_cd \n",
    "    , cv_event_cd.description AS event_description \n",
    "    , AVG(CAST(ce.result_val as int)) as avg \n",
    "FROM clinical_event ce  \n",
    "LEFT OUTER JOIN code_value cv_event_cd \n",
    "ON ce.event_cd = cv_event_cd.code_value \n",
    "WHERE ce.encntr_id IN ( \n",
    "                       SELECT DISTINCT encntr_id \n",
    "                       FROM clinical_event \n",
    "                       WHERE event_cd = '54411998' \n",
    "                       AND result_status_cd NOT IN ('31', '36') \n",
    "                       AND valid_until_dt_tm > unix_timestamp() \n",
    "                       AND event_class_cd not in ('654645') \n",
    "                      ) \n",
    "AND ce.event_cd IN ('3623994', '703540')\n",
    "AND ce.performed_dt_tm > 1470009600000 \n",
    "AND ce.performed_dt_tm < 1470096000000 \n",
    "GROUP BY ce.encntr_id, ce.event_cd, cv_event_cd.description \n",
    "ORDER BY ce.encntr_id;\n",
    "\"\"\""
   ]
  },
  {
   "cell_type": "code",
   "execution_count": null,
   "metadata": {
    "collapsed": true
   },
   "outputs": [],
   "source": [
    "cur.execute(query_RRT)\n",
    "df_RRT = as_pandas(cur)"
   ]
  },
  {
   "cell_type": "code",
   "execution_count": null,
   "metadata": {
    "collapsed": false
   },
   "outputs": [],
   "source": [
    "df_RRT.head()"
   ]
  },
  {
   "cell_type": "code",
   "execution_count": null,
   "metadata": {
    "collapsed": false
   },
   "outputs": [],
   "source": [
    "df_RRT.dtypes"
   ]
  },
  {
   "cell_type": "code",
   "execution_count": null,
   "metadata": {
    "collapsed": true
   },
   "outputs": [],
   "source": [
    "# O2 (oxygen)\n",
    "df_O2RRT = df_RRT[df_RRT.event_cd=='3623994']\n",
    "# Respiration Rate\n",
    "df_RRRRT = df_RRT[df_RRT.event_cd=='703540']"
   ]
  },
  {
   "cell_type": "code",
   "execution_count": null,
   "metadata": {
    "collapsed": false
   },
   "outputs": [],
   "source": [
    "df_O2RRT.head()"
   ]
  },
  {
   "cell_type": "code",
   "execution_count": null,
   "metadata": {
    "collapsed": false
   },
   "outputs": [],
   "source": [
    "df_RRRRT.head()"
   ]
  },
  {
   "cell_type": "code",
   "execution_count": null,
   "metadata": {
    "collapsed": false
   },
   "outputs": [],
   "source": [
    "df_finRRT = pd.merge(df_O2RRT, df_RRRRT, on='encntr_id')"
   ]
  },
  {
   "cell_type": "code",
   "execution_count": null,
   "metadata": {
    "collapsed": false
   },
   "outputs": [],
   "source": [
    "df_finRRT.head()"
   ]
  },
  {
   "cell_type": "code",
   "execution_count": null,
   "metadata": {
    "collapsed": true
   },
   "outputs": [],
   "source": [
    "# Following query returns averages of SpO2 & RR values for each encounterid.\n",
    "# Needs to be reshaped into columnar format.\n",
    "query_NotRRT = \"\"\"\n",
    "SELECT \n",
    "    ce.encntr_id \n",
    "    , ce.event_cd\n",
    "    , cv_event_cd.description AS event_description \n",
    "    , AVG(CAST(ce.result_val as int)) as avg \n",
    "FROM clinical_event ce  \n",
    "LEFT OUTER JOIN code_value cv_event_cd \n",
    "ON ce.event_cd = cv_event_cd.code_value \n",
    "WHERE ce.encntr_id NOT IN ( \n",
    "                           SELECT DISTINCT encntr_id \n",
    "                           FROM clinical_event \n",
    "                           WHERE event_cd = '54411998' \n",
    "                           AND result_status_cd NOT IN ('31', '36') \n",
    "                           AND valid_until_dt_tm > unix_timestamp() \n",
    "                           AND event_class_cd not in ('654645') \n",
    "                          ) \n",
    "AND ce.event_cd IN ('3623994', '703540')\n",
    "AND ce.performed_dt_tm > 1470009600000 \n",
    "AND ce.performed_dt_tm < 1470096000000 \n",
    "GROUP BY ce.encntr_id, ce.event_cd, cv_event_cd.description \n",
    "ORDER BY ce.encntr_id;\n",
    "\"\"\""
   ]
  },
  {
   "cell_type": "code",
   "execution_count": null,
   "metadata": {
    "collapsed": true
   },
   "outputs": [],
   "source": [
    "cur.execute(query_NotRRT)\n",
    "df_NotRRT = as_pandas(cur)"
   ]
  },
  {
   "cell_type": "code",
   "execution_count": null,
   "metadata": {
    "collapsed": false
   },
   "outputs": [],
   "source": [
    "df_NotRRT.shape"
   ]
  },
  {
   "cell_type": "code",
   "execution_count": null,
   "metadata": {
    "collapsed": true
   },
   "outputs": [],
   "source": [
    "df_O2NotRRT = df_NotRRT[df_NotRRT.event_cd=='3623994']\n",
    "df_RRNotRRT = df_NotRRT[df_NotRRT.event_cd=='703540']"
   ]
  },
  {
   "cell_type": "code",
   "execution_count": null,
   "metadata": {
    "collapsed": true
   },
   "outputs": [],
   "source": [
    "df_finNotRRT = pd.merge(df_O2NotRRT, df_RRNotRRT, on='encntr_id')"
   ]
  },
  {
   "cell_type": "code",
   "execution_count": null,
   "metadata": {
    "collapsed": false
   },
   "outputs": [],
   "source": [
    "df_finNotRRT.head()"
   ]
  },
  {
   "cell_type": "markdown",
   "metadata": {},
   "source": [
    "# Let's do some pair-wise plots"
   ]
  },
  {
   "cell_type": "code",
   "execution_count": null,
   "metadata": {
    "collapsed": false
   },
   "outputs": [],
   "source": [
    "plt.figure(figsize=(10, 8))\n",
    "plt.scatter(df_finNotRRT.avg_x, df_finNotRRT.avg_y, s = 30, alpha=0.5, c='blue')\n",
    "plt.scatter(df_finRRT.avg_x, df_finRRT.avg_y, s = 30, alpha=0.5, c='red')"
   ]
  },
  {
   "cell_type": "code",
   "execution_count": null,
   "metadata": {
    "collapsed": true
   },
   "outputs": [],
   "source": [
    "# A helper that takes two event codes and makes a pair plot will be useful\n",
    "\n",
    "def scatter_avgs(event_cd1, event_cd2):\n",
    "    ''' \n",
    "    Input: event codes are strings. \n",
    "    This function returns a figure, of the average of the vital signs per encounter\n",
    "    '''\n",
    "    \n",
    "    query_RRT = \"\"\"\n",
    "                SELECT \n",
    "                      ce.encntr_id \n",
    "                    , ce.event_cd \n",
    "                    , cv_event_cd.description AS event_description \n",
    "                    , AVG(CAST(ce.result_val as int)) as avg \n",
    "                FROM clinical_event ce  \n",
    "                JOIN encounter enc ON ce.encntr_id = enc.encntr_id \n",
    "                LEFT OUTER JOIN code_value cv_event_cd \n",
    "                ON ce.event_cd = cv_event_cd.code_value \n",
    "                WHERE ce.encntr_id IN ( \n",
    "                                       SELECT DISTINCT encntr_id \n",
    "                                       FROM clinical_event \n",
    "                                       WHERE event_cd = '54411998' \n",
    "                                       AND result_status_cd NOT IN ('31', '36') \n",
    "                                       AND valid_until_dt_tm > unix_timestamp() \n",
    "                                       AND event_class_cd not in ('654645') \n",
    "                                      ) \n",
    "                AND ce.event_cd IN ('{0}', '{1}')\n",
    "                AND ce.performed_dt_tm > 1470009600000 \n",
    "                AND ce.performed_dt_tm < 1470355200000 \n",
    "                AND enc.loc_facility_cd = '633867'\n",
    "                GROUP BY ce.encntr_id, ce.event_cd, cv_event_cd.description \n",
    "                ORDER BY ce.encntr_id;\n",
    "                \"\"\".format(str(event_cd1), str(event_cd2))\n",
    "    \n",
    "    cur.execute(query_RRT)\n",
    "    df_RRT = as_pandas(cur)\n",
    "    df_1RRT = df_RRT[df_RRT.event_cd==str(event_cd1)]\n",
    "    df_2RRT = df_RRT[df_RRT.event_cd==str(event_cd2)]\n",
    "    df_finRRT = pd.merge(df_1RRT, df_2RRT, on='encntr_id')\n",
    "    \n",
    "    query_NotRRT = \"\"\"\n",
    "                SELECT \n",
    "                      ce.encntr_id \n",
    "                    , ce.event_cd \n",
    "                    , cv_event_cd.description AS event_description \n",
    "                    , AVG(CAST(ce.result_val as int)) as avg \n",
    "                FROM clinical_event ce  \n",
    "                JOIN encounter enc ON ce.encntr_id = enc.encntr_id \n",
    "                LEFT OUTER JOIN code_value cv_event_cd \n",
    "                ON ce.event_cd = cv_event_cd.code_value \n",
    "                WHERE ce.encntr_id NOT IN ( \n",
    "                                           SELECT DISTINCT encntr_id \n",
    "                                           FROM clinical_event \n",
    "                                           WHERE event_cd = '54411998' \n",
    "                                           AND result_status_cd NOT IN ('31', '36') \n",
    "                                           AND valid_until_dt_tm > unix_timestamp() \n",
    "                                           AND event_class_cd not in ('654645') \n",
    "                                           ) \n",
    "                AND ce.event_cd IN ('{0}', '{1}')\n",
    "                AND ce.performed_dt_tm > 1470009600000 \n",
    "                AND ce.performed_dt_tm < 1470355200000 \n",
    "                AND enc.loc_facility_cd = '633867'\n",
    "                GROUP BY ce.encntr_id, ce.event_cd, cv_event_cd.description \n",
    "                ORDER BY ce.encntr_id;\n",
    "                \"\"\".format(str(event_cd1), str(event_cd2))\n",
    "    \n",
    "    cur.execute(query_NotRRT)\n",
    "    df_NotRRT = as_pandas(cur)\n",
    "    df_1NotRRT = df_NotRRT[df_NotRRT.event_cd==str(event_cd1)]\n",
    "    df_2NotRRT = df_NotRRT[df_NotRRT.event_cd==str(event_cd2)]\n",
    "    df_finNotRRT = pd.merge(df_1NotRRT, df_2NotRRT, on='encntr_id')\n",
    "    \n",
    "    # plotting\n",
    "    plt.figure(figsize=(10, 8))\n",
    "    plt.scatter(df_finNotRRT.avg_x, df_finNotRRT.avg_y, s = 40, alpha=0.5, c='blue')\n",
    "    plt.scatter(df_finRRT.avg_x, df_finRRT.avg_y, s = 30, alpha=0.5, c='red')\n",
    "    plt.xlabel(event_cd1)\n",
    "    plt.ylabel(event_cd2)\n",
    "    plt.legend(['Non-RRT patients', 'RRT patients'])\n",
    "    plt.title('Vital sign averages per encounter')\n",
    "    "
   ]
  },
  {
   "cell_type": "code",
   "execution_count": null,
   "metadata": {
    "collapsed": false
   },
   "outputs": [],
   "source": [
    "scatter_avgs('703501','703516') # x = systolic BP; y = diastolic BP\n"
   ]
  },
  {
   "cell_type": "code",
   "execution_count": null,
   "metadata": {
    "collapsed": false
   },
   "outputs": [],
   "source": [
    "scatter_avgs('703558','703306') # x= oral temp, y = mean arterial pressure"
   ]
  },
  {
   "cell_type": "code",
   "execution_count": null,
   "metadata": {
    "collapsed": false
   },
   "outputs": [],
   "source": [
    "scatter_avgs('703565', '4686698') # glasgow coma score, RASS score"
   ]
  },
  {
   "cell_type": "code",
   "execution_count": null,
   "metadata": {
    "collapsed": false
   },
   "outputs": [],
   "source": [
    "scatter_avgs('4674677', '2700653') # weight, height"
   ]
  },
  {
   "cell_type": "code",
   "execution_count": null,
   "metadata": {
    "collapsed": false
   },
   "outputs": [],
   "source": [
    "scatter_avgs('703511', '703540') # pulse rate, respiratory rate\n",
    "plt.xlabel('pulse rate', fontsize = 16)\n",
    "plt.ylabel('respiratory rate', fontsize=16)"
   ]
  },
  {
   "cell_type": "code",
   "execution_count": null,
   "metadata": {
    "collapsed": false
   },
   "outputs": [],
   "source": [
    "scatter_avgs('703540', '4690633') # respiratory rate, CO2\n",
    "plt.xlabel('Respiratory Rate', fontsize=16)\n",
    "plt.ylabel('')"
   ]
  },
  {
   "cell_type": "code",
   "execution_count": null,
   "metadata": {
    "collapsed": false
   },
   "outputs": [],
   "source": [
    "scatter_avgs('703540', '2700541') # respiratory rate, heart rate\n",
    "plt.xlabel('Respiratory Rate', fontsize=16)\n",
    "plt.ylabel('Heart Rate', fontsize = 16)"
   ]
  },
  {
   "cell_type": "code",
   "execution_count": null,
   "metadata": {
    "collapsed": false
   },
   "outputs": [],
   "source": [
    "scatter_avgs('3623994', '4690633') # O2, CO2\n",
    "plt.xlabel('O2', fontsize = 16)\n",
    "plt.ylabel('CO2', fontsize = 16)\n",
    "plt.xlim([86, 101])"
   ]
  },
  {
   "cell_type": "code",
   "execution_count": null,
   "metadata": {
    "collapsed": true
   },
   "outputs": [],
   "source": [
    "## Earlier assumption of averaging out the data --> correct, \n",
    "## no difference once we look at the avgerage vital signs over time."
   ]
  }
 ],
 "metadata": {
  "anaconda-cloud": {},
  "kernelspec": {
   "display_name": "Python [Root]",
   "language": "python",
   "name": "Python [Root]"
  },
  "language_info": {
   "codemirror_mode": {
    "name": "ipython",
    "version": 2
   },
   "file_extension": ".py",
   "mimetype": "text/x-python",
   "name": "python",
   "nbconvert_exporter": "python",
   "pygments_lexer": "ipython2",
   "version": "2.7.12"
  }
 },
 "nbformat": 4,
 "nbformat_minor": 0
}
