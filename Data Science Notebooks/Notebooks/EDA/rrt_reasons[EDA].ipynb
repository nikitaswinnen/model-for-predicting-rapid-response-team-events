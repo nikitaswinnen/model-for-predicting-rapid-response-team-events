{
 "cells": [
  {
   "cell_type": "markdown",
   "metadata": {},
   "source": [
    "# Explore the reasons RRT events are called\n",
    "### Have Jan 2015 - Aug 2016 loaded in cluster."
   ]
  },
  {
   "cell_type": "code",
   "execution_count": null,
   "metadata": {
    "collapsed": true
   },
   "outputs": [],
   "source": [
    "import pandas as pd\n",
    "import numpy as np\n",
    "import matplotlib.pyplot as plt\n",
    "import datetime as datetime\n",
    "from impala.util import as_pandas\n",
    "from collections import defaultdict\n",
    "from operator import itemgetter\n",
    "import cPickle as pickle\n",
    "%matplotlib notebook\n",
    "plt.style.use('ggplot')"
   ]
  },
  {
   "cell_type": "code",
   "execution_count": null,
   "metadata": {
    "collapsed": true
   },
   "outputs": [],
   "source": [
    "from impala.dbapi import connect\n",
    "conn = connect(host=\"mycluster.domain.com\", port=my_impala_port_number)\n",
    "cur = conn.cursor()\n",
    "cur.execute(\"use my_db\")"
   ]
  },
  {
   "cell_type": "markdown",
   "metadata": {},
   "source": [
    "### function definitions"
   ]
  },
  {
   "cell_type": "code",
   "execution_count": null,
   "metadata": {
    "collapsed": true
   },
   "outputs": [],
   "source": [
    "def find_rrt_freq(reasons):\n",
    "    '''\n",
    "    reasons is a python list of RRT reasons -- 1 line for each RRT event.\n",
    "    Each entry is a different RRT event; there may be multiple reasons per event\n",
    "    output: a pandas dataframe with the counts for each reason.\n",
    "    '''\n",
    "\n",
    "    rrt_reasons = defaultdict(int)\n",
    "    \n",
    "    for reason in reasons:\n",
    "        otherreason = ''\n",
    "        if reason.lower().startswith(\"other:\"):\n",
    "            # if the line starts with \"other\" --> the only reason is the otherreason(s)\n",
    "            otherreason = reason.lower().split('other:')[1]\n",
    "            rrts = []\n",
    "        else:\n",
    "            # if the line contains \"other:\" or not\n",
    "            splitreason = reason.lower().split('other:')\n",
    "            if len(splitreason) > 1:\n",
    "                # if an \"other\" reason exists, process it differently\n",
    "                otherreason = splitreason[1] # text of the line after 'other:'\n",
    "            primaryreason = splitreason[0].strip().strip('\"')\n",
    "            rrts = primaryreason.split(',')\n",
    "    \n",
    "        for rrt in rrts:\n",
    "            rrt = rrt.strip()\n",
    "            # loop through list of rrt reasons for patient & add to count tracker\n",
    "            if len(rrt) > 0:\n",
    "                # included len check b/c splitting on \"other\" above caused trailing comma\n",
    "                if rrt not in rrt_reasons.keys():\n",
    "                    rrt_reasons[rrt] = 1\n",
    "                else:\n",
    "                    rrt_reasons[rrt] += 1\n",
    "    \n",
    "        if len(otherreason) > 0:\n",
    "            # handle the \"other\" reason(s)\n",
    "            otherreason = \"other: \" + otherreason.strip().strip('\"')\n",
    "            if otherreason not in rrt_reasons.keys():\n",
    "                rrt_reasons[otherreason] = 1\n",
    "            else:\n",
    "                rrt_reasons[otherreason] += 1\n",
    "                \n",
    "    return pd.DataFrame(rrt_reasons, index=['count']).transpose().sort_values('count', ascending=False).reset_index()\n"
   ]
  },
  {
   "cell_type": "code",
   "execution_count": null,
   "metadata": {
    "collapsed": true
   },
   "outputs": [],
   "source": [
    "def count_others(reasons):\n",
    "    '''\n",
    "    Count how many \"Other\" reasons there are, both occurring alone & with other reasons.\n",
    "    \"other_counts\" is a dict which contains \"only_other\" & \"other_withothers\" as keys\n",
    "    '''\n",
    "    \n",
    "    other_counts = defaultdict(int)\n",
    "    other_counts['only_other'] = 0\n",
    "    other_counts['other_withothers'] = 0\n",
    "\n",
    "    for reason in reasons:\n",
    "        if 'other' in reason.lower():\n",
    "            if reason.lower().startswith('other'):\n",
    "                other_counts['only_other'] += 1\n",
    "            else:\n",
    "                other_counts['other_withothers'] +=1\n",
    "    \n",
    "    print other_counts"
   ]
  },
  {
   "cell_type": "code",
   "execution_count": null,
   "metadata": {
    "collapsed": true
   },
   "outputs": [],
   "source": [
    "def count_staffconcern(reasons):\n",
    "    '''\n",
    "    input: list of reasons\n",
    "    Counts how many time staff concern line happens, both by itself and with other reasons.\n",
    "    '''\n",
    "\n",
    "    staff_counts = defaultdict(int)\n",
    "    staff_counts['by_itself'] = 0\n",
    "    staff_counts['with_other_reasons'] = 0\n",
    "\n",
    "    for reason in reasons:\n",
    "        if 'staff concern' in reason.lower():\n",
    "            if 'patient,' in reason.lower():\n",
    "                staff_counts['with_other_reasons'] += 1\n",
    "            else:\n",
    "                staff_counts['by_itself'] += 1\n",
    "    \n",
    "    print staff_counts"
   ]
  },
  {
   "cell_type": "code",
   "execution_count": null,
   "metadata": {
    "collapsed": true
   },
   "outputs": [],
   "source": [
    "def avg_num_reasons(reasons):\n",
    "    '''\n",
    "    input: list of reasons; each entry is an RRT reason\n",
    "    ouput: average number of reasons per RRT call.\n",
    "    '''\n",
    "    reasoncount = 0.0\n",
    "    rrtcount = 0.0\n",
    "    \n",
    "    for entry in reasons:\n",
    "        reasoncount += len(entry.split(','))\n",
    "        rrtcount +=1\n",
    "        \n",
    "    return reasoncount/rrtcount"
   ]
  },
  {
   "cell_type": "markdown",
   "metadata": {},
   "source": [
    "## Query impala for rrt reasons\n",
    "#### only looking at valid events (ce.valid_until_dt_tm > 4e12) & complete encounters for inpatients (enc.encntr_type_class_cd='391') at Main Hospital (enc.loc_facility_cd='633867')"
   ]
  },
  {
   "cell_type": "code",
   "execution_count": null,
   "metadata": {
    "collapsed": false
   },
   "outputs": [],
   "source": [
    "query = '''\n",
    "SELECT ce.event_tag\n",
    "FROM encounter enc\n",
    "INNER JOIN clinical_event ce\n",
    "ON enc.encntr_id = ce.encntr_id\n",
    "WHERE enc.loc_facility_cd='633867'\n",
    "AND enc.encntr_complete_dt_tm < 4e12\n",
    "AND ce.event_cd='54408578'\n",
    "AND ce.result_status_cd NOT IN ('31', '36')\n",
    "AND ce.valid_until_dt_tm > 4e12\n",
    "AND ce.event_class_cd not in ('654645')\n",
    "AND enc.admit_type_cd !='0'\n",
    "AND enc.encntr_type_class_cd='391';\n",
    "'''\n",
    "\n",
    "cur.execute(query)\n",
    "reasons = cur.fetchall()  # would read result into a list of tuples, e.g. [('Other: iv start',),(...)...]"
   ]
  },
  {
   "cell_type": "code",
   "execution_count": null,
   "metadata": {
    "collapsed": false,
    "scrolled": true
   },
   "outputs": [],
   "source": [
    "# look at the result\n",
    "reasons"
   ]
  },
  {
   "cell_type": "code",
   "execution_count": null,
   "metadata": {
    "collapsed": false
   },
   "outputs": [],
   "source": [
    "# Make the tuple within a list a simple list\n",
    "reasons = [reason[0] for reason in reasons]"
   ]
  },
  {
   "cell_type": "code",
   "execution_count": null,
   "metadata": {
    "collapsed": false
   },
   "outputs": [],
   "source": [
    "reasons"
   ]
  },
  {
   "cell_type": "markdown",
   "metadata": {},
   "source": [
    "### Number of reasons given (note, not all rrt events have reasons given; we have 2048 rrt events)"
   ]
  },
  {
   "cell_type": "code",
   "execution_count": null,
   "metadata": {
    "collapsed": false
   },
   "outputs": [],
   "source": [
    "len(reasons)"
   ]
  },
  {
   "cell_type": "markdown",
   "metadata": {},
   "source": [
    "### Number of reasons with \"Other: ...\" reason provided (user filled) "
   ]
  },
  {
   "cell_type": "code",
   "execution_count": null,
   "metadata": {
    "collapsed": false
   },
   "outputs": [],
   "source": [
    "count_others(reasons)"
   ]
  },
  {
   "cell_type": "markdown",
   "metadata": {},
   "source": [
    "#### This means num_only_other/num_rrt_events => % of reasons have only a personnel-specified reason listed"
   ]
  },
  {
   "cell_type": "markdown",
   "metadata": {},
   "source": [
    "### Number of reasons including \"Staff Concern\" as a reason, by itself & with others"
   ]
  },
  {
   "cell_type": "code",
   "execution_count": null,
   "metadata": {
    "collapsed": false
   },
   "outputs": [],
   "source": [
    "count_staffconcern(reasons)"
   ]
  },
  {
   "cell_type": "markdown",
   "metadata": {},
   "source": [
    "#### This means num_by_itself/num_rrt_events => % of all RRTs have no specific reason provided"
   ]
  },
  {
   "cell_type": "markdown",
   "metadata": {},
   "source": [
    "### Average number of reasons per RRT call:"
   ]
  },
  {
   "cell_type": "code",
   "execution_count": null,
   "metadata": {
    "collapsed": false
   },
   "outputs": [],
   "source": [
    "avg_num_reasons(reasons)"
   ]
  },
  {
   "cell_type": "markdown",
   "metadata": {},
   "source": [
    "### Count the occurrences -- what are the most frequent reasons?"
   ]
  },
  {
   "cell_type": "code",
   "execution_count": null,
   "metadata": {
    "collapsed": false
   },
   "outputs": [],
   "source": [
    "df_reasons = find_rrt_freq(reasons)"
   ]
  },
  {
   "cell_type": "code",
   "execution_count": null,
   "metadata": {
    "collapsed": false,
    "scrolled": true
   },
   "outputs": [],
   "source": [
    "df_reasons"
   ]
  },
  {
   "cell_type": "markdown",
   "metadata": {},
   "source": [
    "## Staff concern for patient is the top reason for RRT."
   ]
  },
  {
   "cell_type": "markdown",
   "metadata": {},
   "source": [
    "### Visualize the top 15 reaons"
   ]
  },
  {
   "cell_type": "code",
   "execution_count": null,
   "metadata": {
    "collapsed": false
   },
   "outputs": [],
   "source": [
    "plt.figure(figsize=(12,8))\n",
    "plt.tight_layout\n",
    "val = df_reasons['count'][0:15]\n",
    "pos = np.arange(15)+0.5 #bar centers on the y axis\n",
    "plt.barh(-pos, val, align='center')\n",
    "plt.yticks(-pos, df_reasons['index'][0:15])\n",
    "plt.tick_params(direction='in', labelsize='16', pad=1)\n",
    "plt.xlabel('Frequency of Reason', fontsize='16')\n",
    "plt.title('Top Reasons for RRT Event, Jan 2015 - Aug 2016', fontsize = '16')\n",
    "plt.tight_layout()\n",
    "\n",
    "# Run the line below to save an image of the chart\n",
    "plt.savefig('RRT_top15reasons.png')"
   ]
  }
 ],
 "metadata": {
  "anaconda-cloud": {},
  "kernelspec": {
   "display_name": "Python [Root]",
   "language": "python",
   "name": "Python [Root]"
  },
  "language_info": {
   "codemirror_mode": {
    "name": "ipython",
    "version": 2
   },
   "file_extension": ".py",
   "mimetype": "text/x-python",
   "name": "python",
   "nbconvert_exporter": "python",
   "pygments_lexer": "ipython2",
   "version": "2.7.12"
  }
 },
 "nbformat": 4,
 "nbformat_minor": 0
}
