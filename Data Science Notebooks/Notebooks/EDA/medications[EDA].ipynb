{
 "cells": [
  {
   "cell_type": "code",
   "execution_count": null,
   "metadata": {
    "collapsed": true
   },
   "outputs": [],
   "source": [
    "import pandas as pd\n",
    "import numpy as np\n",
    "import matplotlib.pyplot as plt\n",
    "import datetime as datetime\n",
    "from impala.util import as_pandas\n",
    "from impala.dbapi import connect\n",
    "import cPickle as pickle\n",
    "%matplotlib notebook\n",
    "plt.style.use('ggplot')"
   ]
  },
  {
   "cell_type": "code",
   "execution_count": null,
   "metadata": {
    "collapsed": true
   },
   "outputs": [],
   "source": [
    "conn = connect(host=\"mycluster.domain.com\", port=my_impala_port_number)\n",
    "cur = conn.cursor()\n",
    "cur.execute(\"use my_db\")"
   ]
  },
  {
   "cell_type": "markdown",
   "metadata": {},
   "source": [
    "List of medications/drugs which may be predictive:\n",
    "    From clinical_event:\n",
    "    - \"on_iv\" - if the patient is on an iv drip, event_cd = 679984\n",
    "    - \"bu-nal - is the patient taking buprenorphine and/or naloxone, event_cd= 2797130, 2797129, 2797129\n",
    "    - \"dialysis\" - is the patient on dialysis (event_cd = 186470117)\n",
    "    \n",
    "    From orders table:\n",
    "    - \"anticoagulants\" - multum_category_id = 261, 262, 283, 285\n",
    "    - \"narcotics\" - multum_category_id = 60\n",
    "    - \"narc-ans\" - narcotic analgesic combinations; multum_category_id = 191\n",
    "    - \"antipsychotics\" - multum_category_id = 77, 210, 251, 341\n",
    "    - \"chemo\" - multum_category_id = 20, 21, 22, 23, 24, 25, 26"
   ]
  },
  {
   "cell_type": "markdown",
   "metadata": {},
   "source": [
    "### We want to count the number of  RRT & non-RRT patients who have taken certain classes of medications during their encounters, then divide by number of that type of patients total to find proportion of those patients taking that kind of medication."
   ]
  },
  {
   "cell_type": "markdown",
   "metadata": {},
   "source": [
    "## There are two ways medications can be queried, (1) through orders, or (2) through clinical_events."
   ]
  },
  {
   "cell_type": "code",
   "execution_count": null,
   "metadata": {
    "collapsed": false
   },
   "outputs": [],
   "source": [
    "pairs = [(\"'20','21','22','23','24','25','26'\", 'chemo'), (\"'60'\", 'narcotics'), (\"'191'\", 'narc-ans'),\n",
    "         (\"'261','262','283','285'\", 'anticoagulants'), (\"'77', '210','251', '341'\", 'antipsychotics') ]\n",
    "\n",
    "count_tracker1_notrrt= []\n",
    "\n",
    "for i in range(len(pairs)):\n",
    "    \n",
    "    query1_notRRT = \"\"\"\n",
    "    SELECT count(1) \n",
    "    FROM (\n",
    "        SELECT DISTINCT encntr_id\n",
    "        FROM (\n",
    "                SELECT \n",
    "                  encntr_id\n",
    "                , cki\n",
    "                , substr(cki,9) as cki_id\n",
    "                , order_id FROM orders\n",
    "             ) ords\n",
    "        LEFT OUTER JOIN mltm_category_drug_xref mdx \n",
    "        ON ords.cki_id = mdx.drug_identifier\n",
    "        LEFT OUTER JOIN mltm_drug_categories mdc \n",
    "        ON mdc.multum_category_id = mdx.multum_category_id\n",
    "        WHERE ords.encntr_id IN (\n",
    "                                  SELECT DISTINCT encntr_id\n",
    "                                  FROM encounter \n",
    "                                  WHERE loc_facility_cd='633867'\n",
    "                                  AND encntr_complete_dt_tm < 4e12\n",
    "                                  AND admit_type_cd != '0'\n",
    "                                  AND encntr_type_class_cd='391'\n",
    "                                  AND encntr_id NOT IN (  -- Add/remove \"NOT\" to select from or not from encounters from RRT events\n",
    "                                                        SELECT DISTINCT encntr_id\n",
    "                                                        FROM clinical_event\n",
    "                                                        WHERE event_cd='54411998'\n",
    "                                                        AND result_status_cd NOT IN ('31', '36')\n",
    "                                                        AND valid_until_dt_tm > 4e12\n",
    "                                                        AND event_class_cd not in ('654645')\n",
    "                                                        )\n",
    "                                  )\n",
    "\n",
    "        AND mdx.multum_category_id IN ({0})\n",
    "        ) AS t;\n",
    "    \"\"\".format(pairs[i][0])\n",
    "\n",
    "    cur.execute(query1_notRRT)\n",
    "    count = cur.fetchall()\n",
    "    count = count[0][0]\n",
    "\n",
    "    count_tracker1_notrrt.append((pairs[i][1], count))"
   ]
  },
  {
   "cell_type": "code",
   "execution_count": null,
   "metadata": {
    "collapsed": false
   },
   "outputs": [],
   "source": [
    "count_tracker2_notrrt= []\n",
    "\n",
    "# strings = ['679984', '2797130', '2798305', '2797129', '186470117']\n",
    "pairs = [('679984', 'on_iv'), ('2797130', 'bu-nal'), ('2797129', 'buprenorphine'),\n",
    "         ('2798305', 'naloxone'), ('186470117', 'dialysis')]\n",
    "\n",
    "for i in range(len(pairs)):\n",
    "    \n",
    "    string = pairs[i][0]\n",
    "\n",
    "    query2_notRRT = \"\"\"\n",
    "    SELECT count(1) \n",
    "    FROM (\n",
    "            SELECT DISTINCT ce.encntr_id\n",
    "            FROM clinical_event ce\n",
    "            LEFT OUTER JOIN code_value cv ON cv.code_value = ce.event_cd\n",
    "            WHERE ce.event_cd IN ('{0}')\n",
    "            AND ce.encntr_id IN (\n",
    "                                  SELECT DISTINCT encntr_id\n",
    "                                  FROM encounter \n",
    "                                  WHERE loc_facility_cd='633867'\n",
    "                                  AND encntr_complete_dt_tm < 4e12\n",
    "                                  AND admit_type_cd != '0'\n",
    "                                  AND encntr_type_class_cd='391'\n",
    "                                  AND encntr_id NOT IN (\n",
    "                                                        SELECT DISTINCT encntr_id\n",
    "                                                        FROM clinical_event\n",
    "                                                        WHERE event_cd='54411998'\n",
    "                                                        AND result_status_cd NOT IN ('31', '36')\n",
    "                                                        AND valid_until_dt_tm > 4e12\n",
    "                                                        AND event_class_cd not in ('654645')\n",
    "                                                        )\n",
    "                                  )\n",
    "          ) AS t;\n",
    "    \"\"\".format(string)\n",
    "\n",
    "    cur.execute(query2_notRRT)\n",
    "    count = cur.fetchall()\n",
    "    count = count[0][0]\n",
    "\n",
    "    count_tracker2_notrrt.append((pairs[i][1], count))"
   ]
  },
  {
   "cell_type": "code",
   "execution_count": null,
   "metadata": {
    "collapsed": true
   },
   "outputs": [],
   "source": [
    "pairs = [(\"'20','21','22','23','24','25','26'\", 'chemo'), (\"'60'\", 'narcotics'), (\"'191'\", 'narc-ans'),\n",
    "         (\"'261','262','283','285'\", 'anticoagulants'), (\"'77', '210','251', '341'\", 'antipsychotics') ]\n",
    "\n",
    "count_tracker1_rrt= []\n",
    "\n",
    "for i in range(len(pairs)):\n",
    "    \n",
    "    query1_RRT = \"\"\"\n",
    "    SELECT count(1) \n",
    "    FROM (\n",
    "            SELECT DISTINCT ords.encntr_id\n",
    "            FROM (\n",
    "                    SELECT \n",
    "                          encntr_id\n",
    "                        , cki, substr(cki,9) as cki_id\n",
    "                        , order_id FROM orders\n",
    "                 ) ords\n",
    "            LEFT OUTER JOIN mltm_category_drug_xref mdx \n",
    "            ON ords.cki_id = mdx.drug_identifier\n",
    "            LEFT OUTER JOIN mltm_drug_categories mdc \n",
    "            ON mdc.multum_category_id = mdx.multum_category_id\n",
    "            WHERE ords.encntr_id IN (\n",
    "                                      SELECT DISTINCT encntr_id\n",
    "                                      FROM encounter \n",
    "                                      WHERE loc_facility_cd='633867'\n",
    "                                      AND encntr_complete_dt_tm < 4e12\n",
    "                                      AND admit_type_cd != '0'\n",
    "                                      AND encntr_type_class_cd='391'\n",
    "                                      AND encntr_id IN (\n",
    "                                                        SELECT DISTINCT encntr_id\n",
    "                                                        FROM clinical_event\n",
    "                                                        WHERE event_cd='54411998'\n",
    "                                                        AND result_status_cd NOT IN ('31', '36')\n",
    "                                                        AND valid_until_dt_tm > 4e12\n",
    "                                                        AND event_class_cd not in ('654645')\n",
    "                                                        )\n",
    "                                    )\n",
    "            \n",
    "            AND mdx.multum_category_id IN ({0})\n",
    "        ) AS t;\n",
    "    \"\"\".format(pairs[i][0])\n",
    "\n",
    "    cur.execute(query1_RRT)\n",
    "    count = cur.fetchall()\n",
    "    count = count[0][0]\n",
    "\n",
    "    count_tracker1_rrt.append((pairs[i][1], count))"
   ]
  },
  {
   "cell_type": "code",
   "execution_count": null,
   "metadata": {
    "collapsed": true
   },
   "outputs": [],
   "source": [
    "count_tracker2_rrt= []\n",
    "\n",
    "pairs = [('679984', 'on_iv'), ('2797130', 'bu-nal'), ('2797129', 'buprenorphine'),\n",
    "         ('2798305', 'naloxone'), ('186470117', 'dialysis')]\n",
    "\n",
    "for i in range(len(pairs)):\n",
    "    \n",
    "    string = pairs[i][0]\n",
    "\n",
    "    query2_RRT = \"\"\"\n",
    "    SELECT count(1) \n",
    "    FROM (\n",
    "            SELECT DISTINCT ce.encntr_id\n",
    "            FROM clinical_event ce\n",
    "            LEFT OUTER JOIN code_value cv \n",
    "            ON cv.code_value = ce.event_cd\n",
    "            WHERE ce.event_cd IN ('{0}')\n",
    "            AND ce.encntr_id IN (\n",
    "                                  SELECT DISTINCT encntr_id\n",
    "                                  FROM encounter \n",
    "                                  WHERE loc_facility_cd='633867'\n",
    "                                  AND encntr_complete_dt_tm < 4e12\n",
    "                                  AND admit_type_cd != '0'\n",
    "                                  AND encntr_type_class_cd='391'\n",
    "                                  AND encntr_id IN (\n",
    "                                                    SELECT DISTINCT encntr_id\n",
    "                                                    FROM clinical_event\n",
    "                                                    WHERE event_cd='54411998'\n",
    "                                                    AND result_status_cd NOT IN ('31', '36')\n",
    "                                                    AND valid_until_dt_tm > 4e12\n",
    "                                                    AND event_class_cd not in ('654645')\n",
    "                                                    )\n",
    "                                  )\n",
    "          ) AS t;\n",
    "    \"\"\".format(string)\n",
    "\n",
    "    cur.execute(query2_RRT)\n",
    "    count = cur.fetchall()\n",
    "    count = count[0][0]\n",
    "\n",
    "    count_tracker2_rrt.append((pairs[i][1], count))"
   ]
  },
  {
   "cell_type": "markdown",
   "metadata": {},
   "source": [
    "### Total number of encounters"
   ]
  },
  {
   "cell_type": "code",
   "execution_count": null,
   "metadata": {
    "collapsed": false
   },
   "outputs": [],
   "source": [
    "# total number of complete, non-RRT encounters in Main Hospital:\n",
    "query_num_notrrt = \"\"\"\n",
    "SELECT count(*)\n",
    "FROM encounter \n",
    "WHERE loc_facility_cd='633867'\n",
    "AND encntr_complete_dt_tm < 4e12\n",
    "AND admit_type_cd != '0'\n",
    "AND encntr_id NOT IN (  \n",
    "                        SELECT DISTINCT encntr_id\n",
    "                        FROM clinical_event\n",
    "                        WHERE event_cd='54411998'\n",
    "                        AND result_status_cd NOT IN ('31', '36')\n",
    "                        AND valid_until_dt_tm > 4e12\n",
    "                        AND event_class_cd not in ('654645')\n",
    "                    );\n",
    "\"\"\"\n",
    "cur.execute(query_num_notrrt)\n",
    "count_notrrt_enc = cur.fetchall()\n",
    "count_notrrt_enc = float(count_notrrt_enc[0][0])"
   ]
  },
  {
   "cell_type": "code",
   "execution_count": null,
   "metadata": {
    "collapsed": false
   },
   "outputs": [],
   "source": [
    "count_notrrt_enc"
   ]
  },
  {
   "cell_type": "code",
   "execution_count": null,
   "metadata": {
    "collapsed": true
   },
   "outputs": [],
   "source": [
    "# total number of complete RRT encounters in Main Hospital:\n",
    "query_num_rrt = \"\"\"\n",
    "SELECT count(*)\n",
    "FROM encounter \n",
    "WHERE loc_facility_cd='633867'\n",
    "AND encntr_complete_dt_tm < 4e12\n",
    "AND admit_type_cd != '0'\n",
    "AND encntr_id IN (  \n",
    "                    SELECT DISTINCT encntr_id\n",
    "                    FROM clinical_event\n",
    "                    WHERE event_cd='54411998'\n",
    "                    AND result_status_cd NOT IN ('31', '36')\n",
    "                    AND valid_until_dt_tm > 4e12\n",
    "                    AND event_class_cd not in ('654645')\n",
    "                );\n",
    "\"\"\"\n",
    "cur.execute(query_num_rrt)\n",
    "count_rrt_enc = cur.fetchall()\n",
    "count_rrt_enc = float(count_rrt_enc[0][0])"
   ]
  },
  {
   "cell_type": "code",
   "execution_count": null,
   "metadata": {
    "collapsed": false
   },
   "outputs": [],
   "source": [
    "count_rrt_enc"
   ]
  },
  {
   "cell_type": "markdown",
   "metadata": {
    "collapsed": true
   },
   "source": [
    "### Putting it all together"
   ]
  },
  {
   "cell_type": "code",
   "execution_count": null,
   "metadata": {
    "collapsed": false
   },
   "outputs": [],
   "source": [
    "count_tracker_notrrt = count_tracker1_notrrt+ count_tracker2_notrrt\n",
    "count_tracker_rrt = count_tracker1_rrt + count_tracker2_rrt"
   ]
  },
  {
   "cell_type": "code",
   "execution_count": null,
   "metadata": {
    "collapsed": false
   },
   "outputs": [],
   "source": [
    "count_tracker_rrt"
   ]
  },
  {
   "cell_type": "code",
   "execution_count": null,
   "metadata": {
    "collapsed": false
   },
   "outputs": [],
   "source": [
    "count_tracker_notrrt"
   ]
  },
  {
   "cell_type": "code",
   "execution_count": null,
   "metadata": {
    "collapsed": false
   },
   "outputs": [],
   "source": [
    "rrt_df = pd.DataFrame.from_records(count_tracker_rrt, columns =[['medication', 'count']])"
   ]
  },
  {
   "cell_type": "code",
   "execution_count": null,
   "metadata": {
    "collapsed": false
   },
   "outputs": [],
   "source": [
    "nonrrt_df = pd.DataFrame.from_records(count_tracker_notrrt, columns =[['medication', 'count']])"
   ]
  },
  {
   "cell_type": "code",
   "execution_count": null,
   "metadata": {
    "collapsed": true
   },
   "outputs": [],
   "source": [
    "# A df with cols medication, count, and fraction_rrt/fraction_notrrt\n",
    "rrt_df['fraction_rrt'] = rrt_df['count']/count_rrt_enc\n",
    "nonrrt_df['fraction_notrrt'] = nonrrt_df['count']/count_notrrt_enc"
   ]
  },
  {
   "cell_type": "code",
   "execution_count": null,
   "metadata": {
    "collapsed": false
   },
   "outputs": [],
   "source": [
    "rrt_df"
   ]
  },
  {
   "cell_type": "code",
   "execution_count": null,
   "metadata": {
    "collapsed": false
   },
   "outputs": [],
   "source": [
    "nonrrt_df"
   ]
  },
  {
   "cell_type": "markdown",
   "metadata": {},
   "source": [
    "### Combine the two dfs (assign different col names...) so I can run somethng like the thing below..."
   ]
  },
  {
   "cell_type": "code",
   "execution_count": null,
   "metadata": {
    "collapsed": false
   },
   "outputs": [],
   "source": [
    "# We now have a handy way to compare the fraction of people with/without RRT events by meds\n",
    "df = pd.concat([nonrrt_df[['medication','fraction_notrrt']], rrt_df['fraction_rrt']],axis=1)\n",
    "df"
   ]
  },
  {
   "cell_type": "code",
   "execution_count": null,
   "metadata": {
    "collapsed": true
   },
   "outputs": [],
   "source": [
    "ind = np.arange(df.shape[0])\n",
    "width = 0.35"
   ]
  },
  {
   "cell_type": "code",
   "execution_count": null,
   "metadata": {
    "collapsed": false
   },
   "outputs": [],
   "source": [
    "df = df.sort_values(by='fraction_rrt')\n",
    "fig, ax = plt.subplots(figsize=(10,8))\n",
    "bar_not_rrt = ax.barh(ind+width, df.fraction_notrrt, width, color = 'b')\n",
    "bar_rrt = ax.barh(ind, df.fraction_rrt, width, color='r')\n",
    "ax.set_yticks(ind+width)\n",
    "ax.set_yticklabels((df.medication))\n",
    "ax.set_xlim([0,1])\n",
    "ax.tick_params(labelsize='14')\n",
    "ax.set_xlabel('Fraction of patients in category taking that medication type', fontsize='14')\n",
    "ax.legend(('Patients without RRT events', 'Patients with RRT events'), loc=4, fontsize='14')\n",
    "plt.tight_layout()"
   ]
  }
 ],
 "metadata": {
  "anaconda-cloud": {},
  "kernelspec": {
   "display_name": "Python [Root]",
   "language": "python",
   "name": "Python [Root]"
  },
  "language_info": {
   "codemirror_mode": {
    "name": "ipython",
    "version": 2
   },
   "file_extension": ".py",
   "mimetype": "text/x-python",
   "name": "python",
   "nbconvert_exporter": "python",
   "pygments_lexer": "ipython2",
   "version": "2.7.12"
  }
 },
 "nbformat": 4,
 "nbformat_minor": 0
}
